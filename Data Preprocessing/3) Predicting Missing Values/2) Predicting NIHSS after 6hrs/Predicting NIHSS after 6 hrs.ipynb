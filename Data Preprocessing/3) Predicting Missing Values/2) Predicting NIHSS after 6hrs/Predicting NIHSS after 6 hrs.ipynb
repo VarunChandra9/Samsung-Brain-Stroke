{
 "cells": [
  {
   "cell_type": "code",
   "execution_count": 22,
   "metadata": {},
   "outputs": [],
   "source": [
    "import pandas as pd\n",
    "import numpy as np\n",
    "import pickle\n",
    "from sklearn.linear_model import LinearRegression\n",
    "import seaborn as sns"
   ]
  },
  {
   "cell_type": "code",
   "execution_count": 23,
   "metadata": {},
   "outputs": [],
   "source": [
    "pickle_in = open('newData.pickle', 'rb')\n",
    "data = pickle.load(pickle_in)\n",
    "pickle_in.close()"
   ]
  },
  {
   "cell_type": "code",
   "execution_count": 24,
   "metadata": {},
   "outputs": [
    {
     "data": {
      "text/html": [
       "<div>\n",
       "<style scoped>\n",
       "    .dataframe tbody tr th:only-of-type {\n",
       "        vertical-align: middle;\n",
       "    }\n",
       "\n",
       "    .dataframe tbody tr th {\n",
       "        vertical-align: top;\n",
       "    }\n",
       "\n",
       "    .dataframe thead th {\n",
       "        text-align: right;\n",
       "    }\n",
       "</style>\n",
       "<table border=\"1\" class=\"dataframe\">\n",
       "  <thead>\n",
       "    <tr style=\"text-align: right;\">\n",
       "      <th></th>\n",
       "      <th>Age</th>\n",
       "      <th>Gender</th>\n",
       "      <th>Door to needle time (min )</th>\n",
       "      <th>Door-door time</th>\n",
       "      <th>CODING WINDOW</th>\n",
       "      <th>MRS</th>\n",
       "      <th>Hyper tension 1-yes              2- No</th>\n",
       "      <th>DM</th>\n",
       "      <th>Blood Sugar at the time of admission ( mg/dl)</th>\n",
       "      <th>Systolic BP</th>\n",
       "      <th>...</th>\n",
       "      <th>Dose of Actilyse/ Weight(mg)</th>\n",
       "      <th>HAGE</th>\n",
       "      <th>NIHSS on admission.1</th>\n",
       "      <th>NIHSS after 1 hr</th>\n",
       "      <th>NIHSS after 6 hrs</th>\n",
       "      <th>coding of Complications</th>\n",
       "      <th>NeuroDeficit_1</th>\n",
       "      <th>NeuroDeficit_2</th>\n",
       "      <th>NeuroDeficit_3</th>\n",
       "      <th>NeuroDeficit_4</th>\n",
       "    </tr>\n",
       "  </thead>\n",
       "  <tbody>\n",
       "    <tr>\n",
       "      <th>0</th>\n",
       "      <td>65</td>\n",
       "      <td>1</td>\n",
       "      <td>-0.742893</td>\n",
       "      <td>-0.526186</td>\n",
       "      <td>1</td>\n",
       "      <td>4</td>\n",
       "      <td>1</td>\n",
       "      <td>1</td>\n",
       "      <td>4.400156</td>\n",
       "      <td>0.000954</td>\n",
       "      <td>...</td>\n",
       "      <td>-0.903152</td>\n",
       "      <td>1</td>\n",
       "      <td>14</td>\n",
       "      <td>12.0</td>\n",
       "      <td>10.0</td>\n",
       "      <td>1</td>\n",
       "      <td>1</td>\n",
       "      <td>0</td>\n",
       "      <td>0</td>\n",
       "      <td>0</td>\n",
       "    </tr>\n",
       "    <tr>\n",
       "      <th>1</th>\n",
       "      <td>38</td>\n",
       "      <td>1</td>\n",
       "      <td>-0.183531</td>\n",
       "      <td>0.428483</td>\n",
       "      <td>1</td>\n",
       "      <td>4</td>\n",
       "      <td>0</td>\n",
       "      <td>0</td>\n",
       "      <td>-0.676106</td>\n",
       "      <td>-0.704781</td>\n",
       "      <td>...</td>\n",
       "      <td>-0.112787</td>\n",
       "      <td>1</td>\n",
       "      <td>13</td>\n",
       "      <td>10.0</td>\n",
       "      <td>10.0</td>\n",
       "      <td>1</td>\n",
       "      <td>1</td>\n",
       "      <td>0</td>\n",
       "      <td>0</td>\n",
       "      <td>0</td>\n",
       "    </tr>\n",
       "    <tr>\n",
       "      <th>2</th>\n",
       "      <td>45</td>\n",
       "      <td>2</td>\n",
       "      <td>-0.463212</td>\n",
       "      <td>-0.526186</td>\n",
       "      <td>1</td>\n",
       "      <td>5</td>\n",
       "      <td>1</td>\n",
       "      <td>0</td>\n",
       "      <td>-0.402066</td>\n",
       "      <td>0.353821</td>\n",
       "      <td>...</td>\n",
       "      <td>-0.112787</td>\n",
       "      <td>2</td>\n",
       "      <td>19</td>\n",
       "      <td>19.0</td>\n",
       "      <td>19.0</td>\n",
       "      <td>3</td>\n",
       "      <td>0</td>\n",
       "      <td>0</td>\n",
       "      <td>0</td>\n",
       "      <td>1</td>\n",
       "    </tr>\n",
       "    <tr>\n",
       "      <th>3</th>\n",
       "      <td>50</td>\n",
       "      <td>1</td>\n",
       "      <td>-0.183531</td>\n",
       "      <td>0.587594</td>\n",
       "      <td>1</td>\n",
       "      <td>4</td>\n",
       "      <td>1</td>\n",
       "      <td>1</td>\n",
       "      <td>2.312233</td>\n",
       "      <td>0.353821</td>\n",
       "      <td>...</td>\n",
       "      <td>-0.112787</td>\n",
       "      <td>1</td>\n",
       "      <td>6</td>\n",
       "      <td>3.0</td>\n",
       "      <td>NaN</td>\n",
       "      <td>1</td>\n",
       "      <td>1</td>\n",
       "      <td>0</td>\n",
       "      <td>0</td>\n",
       "      <td>0</td>\n",
       "    </tr>\n",
       "    <tr>\n",
       "      <th>4</th>\n",
       "      <td>45</td>\n",
       "      <td>1</td>\n",
       "      <td>0.375831</td>\n",
       "      <td>0.269371</td>\n",
       "      <td>1</td>\n",
       "      <td>5</td>\n",
       "      <td>1</td>\n",
       "      <td>0</td>\n",
       "      <td>-0.858799</td>\n",
       "      <td>0.353821</td>\n",
       "      <td>...</td>\n",
       "      <td>-0.112787</td>\n",
       "      <td>1</td>\n",
       "      <td>15</td>\n",
       "      <td>5.0</td>\n",
       "      <td>6.0</td>\n",
       "      <td>1</td>\n",
       "      <td>0</td>\n",
       "      <td>1</td>\n",
       "      <td>0</td>\n",
       "      <td>0</td>\n",
       "    </tr>\n",
       "  </tbody>\n",
       "</table>\n",
       "<p>5 rows × 24 columns</p>\n",
       "</div>"
      ],
      "text/plain": [
       "   Age  Gender  Door to needle time (min )  Door-door time  CODING WINDOW   \\\n",
       "0   65       1                   -0.742893       -0.526186               1   \n",
       "1   38       1                   -0.183531        0.428483               1   \n",
       "2   45       2                   -0.463212       -0.526186               1   \n",
       "3   50       1                   -0.183531        0.587594               1   \n",
       "4   45       1                    0.375831        0.269371               1   \n",
       "\n",
       "   MRS  Hyper tension 1-yes              2- No  DM  \\\n",
       "0    4                                       1   1   \n",
       "1    4                                       0   0   \n",
       "2    5                                       1   0   \n",
       "3    4                                       1   1   \n",
       "4    5                                       1   0   \n",
       "\n",
       "   Blood Sugar at the time of admission ( mg/dl)  Systolic BP  ...  \\\n",
       "0                                       4.400156     0.000954  ...   \n",
       "1                                      -0.676106    -0.704781  ...   \n",
       "2                                      -0.402066     0.353821  ...   \n",
       "3                                       2.312233     0.353821  ...   \n",
       "4                                      -0.858799     0.353821  ...   \n",
       "\n",
       "    Dose of Actilyse/ Weight(mg)  HAGE  NIHSS on admission.1  \\\n",
       "0                      -0.903152     1                    14   \n",
       "1                      -0.112787     1                    13   \n",
       "2                      -0.112787     2                    19   \n",
       "3                      -0.112787     1                     6   \n",
       "4                      -0.112787     1                    15   \n",
       "\n",
       "   NIHSS after 1 hr    NIHSS after 6 hrs  coding of Complications  \\\n",
       "0              12.0                 10.0                        1   \n",
       "1              10.0                 10.0                        1   \n",
       "2              19.0                 19.0                        3   \n",
       "3               3.0                  NaN                        1   \n",
       "4               5.0                  6.0                        1   \n",
       "\n",
       "   NeuroDeficit_1  NeuroDeficit_2  NeuroDeficit_3  NeuroDeficit_4  \n",
       "0               1               0               0               0  \n",
       "1               1               0               0               0  \n",
       "2               0               0               0               1  \n",
       "3               1               0               0               0  \n",
       "4               0               1               0               0  \n",
       "\n",
       "[5 rows x 24 columns]"
      ]
     },
     "execution_count": 24,
     "metadata": {},
     "output_type": "execute_result"
    }
   ],
   "source": [
    "data.head()"
   ]
  },
  {
   "cell_type": "code",
   "execution_count": 25,
   "metadata": {},
   "outputs": [
    {
     "name": "stdout",
     "output_type": "stream",
     "text": [
      "<class 'pandas.core.frame.DataFrame'>\n",
      "RangeIndex: 185 entries, 0 to 184\n",
      "Data columns (total 24 columns):\n",
      "Age                                              185 non-null int64\n",
      "Gender                                           185 non-null int64\n",
      "Door to needle time (min )                       185 non-null float64\n",
      "Door-door time                                   185 non-null float64\n",
      "CODING WINDOW                                    185 non-null int64\n",
      "MRS                                              185 non-null int64\n",
      "Hyper tension 1-yes              2- No           185 non-null int64\n",
      "DM                                               185 non-null int64\n",
      "Blood Sugar at the time of admission ( mg/dl)    185 non-null float64\n",
      "Systolic BP                                      185 non-null float64\n",
      "Diastolic BP                                     185 non-null float64\n",
      "CODE SMOKER 1 yes - 2 NO                         185 non-null int64\n",
      "History of Stroke-1 yes - 2 No                   185 non-null int64\n",
      "CODING ANT. POST. COMBINATION                    185 non-null int64\n",
      " Dose of Actilyse/ Weight(mg)                    185 non-null float64\n",
      "HAGE                                             185 non-null int64\n",
      "NIHSS on admission.1                             185 non-null int64\n",
      "NIHSS after 1 hr                                 185 non-null float64\n",
      "  NIHSS after 6 hrs                              180 non-null float64\n",
      "coding of Complications                          185 non-null int64\n",
      "NeuroDeficit_1                                   185 non-null uint8\n",
      "NeuroDeficit_2                                   185 non-null uint8\n",
      "NeuroDeficit_3                                   185 non-null uint8\n",
      "NeuroDeficit_4                                   185 non-null uint8\n",
      "dtypes: float64(8), int64(12), uint8(4)\n",
      "memory usage: 29.8 KB\n"
     ]
    }
   ],
   "source": [
    "data.info()"
   ]
  },
  {
   "cell_type": "markdown",
   "metadata": {},
   "source": [
    "## Exploratory Data Analysis"
   ]
  },
  {
   "cell_type": "code",
   "execution_count": 26,
   "metadata": {},
   "outputs": [
    {
     "data": {
      "text/plain": [
       "<seaborn.axisgrid.JointGrid at 0x1f752523278>"
      ]
     },
     "execution_count": 26,
     "metadata": {},
     "output_type": "execute_result"
    },
    {
     "data": {
      "image/png": "[encoded data removed]",
      "text/plain": [
       "<Figure size 432x432 with 3 Axes>"
      ]
     },
     "metadata": {
      "needs_background": "light"
     },
     "output_type": "display_data"
    }
   ],
   "source": [
    "sns.jointplot(x='NIHSS on admission.1',y='  NIHSS after 6 hrs',data=data,kind='reg')"
   ]
  },
  {
   "cell_type": "code",
   "execution_count": 27,
   "metadata": {},
   "outputs": [
    {
     "data": {
      "text/plain": [
       "<seaborn.axisgrid.JointGrid at 0x1f7527b1550>"
      ]
     },
     "execution_count": 27,
     "metadata": {},
     "output_type": "execute_result"
    },
    {
     "data": {
      "image/png": "[encoded data removed]",
      "text/plain": [
       "<Figure size 432x432 with 3 Axes>"
      ]
     },
     "metadata": {
      "needs_background": "light"
     },
     "output_type": "display_data"
    }
   ],
   "source": [
    "sns.jointplot(x='NIHSS after 1 hr',y='  NIHSS after 6 hrs',data=data,kind='reg')"
   ]
  },
  {
   "cell_type": "code",
   "execution_count": 28,
   "metadata": {},
   "outputs": [],
   "source": [
    "reduced_data = data[['NIHSS on admission.1', 'NIHSS after 1 hr', '  NIHSS after 6 hrs']]"
   ]
  },
  {
   "cell_type": "code",
   "execution_count": 29,
   "metadata": {},
   "outputs": [],
   "source": [
    "data_to_predict = reduced_data[reduced_data['  NIHSS after 6 hrs'].isnull()]"
   ]
  },
  {
   "cell_type": "code",
   "execution_count": 30,
   "metadata": {},
   "outputs": [
    {
     "name": "stderr",
     "output_type": "stream",
     "text": [
      "C:\\Users\\Varun Chandra\\.conda\\envs\\tf_gpu36\\lib\\site-packages\\ipykernel_launcher.py:1: SettingWithCopyWarning: \n",
      "A value is trying to be set on a copy of a slice from a DataFrame\n",
      "\n",
      "See the caveats in the documentation: http://pandas.pydata.org/pandas-docs/stable/user_guide/indexing.html#returning-a-view-versus-a-copy\n",
      "  \"\"\"Entry point for launching an IPython kernel.\n"
     ]
    }
   ],
   "source": [
    "reduced_data.dropna(subset = ['  NIHSS after 6 hrs'], inplace = True)"
   ]
  },
  {
   "cell_type": "markdown",
   "metadata": {},
   "source": [
    "## Partitioning Data"
   ]
  },
  {
   "cell_type": "code",
   "execution_count": 31,
   "metadata": {},
   "outputs": [],
   "source": [
    "x_train = np.array(reduced_data[['NIHSS on admission.1', 'NIHSS after 1 hr']])\n",
    "y_train = np.array(reduced_data['  NIHSS after 6 hrs'])"
   ]
  },
  {
   "cell_type": "markdown",
   "metadata": {},
   "source": [
    "## Linear Regression"
   ]
  },
  {
   "cell_type": "code",
   "execution_count": 32,
   "metadata": {},
   "outputs": [
    {
     "data": {
      "text/plain": [
       "LinearRegression(copy_X=True, fit_intercept=True, n_jobs=None, normalize=False)"
      ]
     },
     "execution_count": 32,
     "metadata": {},
     "output_type": "execute_result"
    }
   ],
   "source": [
    "lm = LinearRegression()\n",
    "lm.fit(x_train, y_train)"
   ]
  },
  {
   "cell_type": "markdown",
   "metadata": {},
   "source": [
    "## Prediction"
   ]
  },
  {
   "cell_type": "code",
   "execution_count": 33,
   "metadata": {},
   "outputs": [
    {
     "data": {
      "text/html": [
       "<div>\n",
       "<style scoped>\n",
       "    .dataframe tbody tr th:only-of-type {\n",
       "        vertical-align: middle;\n",
       "    }\n",
       "\n",
       "    .dataframe tbody tr th {\n",
       "        vertical-align: top;\n",
       "    }\n",
       "\n",
       "    .dataframe thead th {\n",
       "        text-align: right;\n",
       "    }\n",
       "</style>\n",
       "<table border=\"1\" class=\"dataframe\">\n",
       "  <thead>\n",
       "    <tr style=\"text-align: right;\">\n",
       "      <th></th>\n",
       "      <th>NIHSS on admission.1</th>\n",
       "      <th>NIHSS after 1 hr</th>\n",
       "      <th>NIHSS after 6 hrs</th>\n",
       "    </tr>\n",
       "  </thead>\n",
       "  <tbody>\n",
       "    <tr>\n",
       "      <th>3</th>\n",
       "      <td>6</td>\n",
       "      <td>3.0</td>\n",
       "      <td>NaN</td>\n",
       "    </tr>\n",
       "    <tr>\n",
       "      <th>5</th>\n",
       "      <td>9</td>\n",
       "      <td>7.0</td>\n",
       "      <td>NaN</td>\n",
       "    </tr>\n",
       "    <tr>\n",
       "      <th>13</th>\n",
       "      <td>5</td>\n",
       "      <td>4.0</td>\n",
       "      <td>NaN</td>\n",
       "    </tr>\n",
       "    <tr>\n",
       "      <th>44</th>\n",
       "      <td>10</td>\n",
       "      <td>8.0</td>\n",
       "      <td>NaN</td>\n",
       "    </tr>\n",
       "    <tr>\n",
       "      <th>45</th>\n",
       "      <td>9</td>\n",
       "      <td>7.0</td>\n",
       "      <td>NaN</td>\n",
       "    </tr>\n",
       "  </tbody>\n",
       "</table>\n",
       "</div>"
      ],
      "text/plain": [
       "    NIHSS on admission.1  NIHSS after 1 hr    NIHSS after 6 hrs\n",
       "3                      6               3.0                  NaN\n",
       "5                      9               7.0                  NaN\n",
       "13                     5               4.0                  NaN\n",
       "44                    10               8.0                  NaN\n",
       "45                     9               7.0                  NaN"
      ]
     },
     "execution_count": 33,
     "metadata": {},
     "output_type": "execute_result"
    }
   ],
   "source": [
    "data_to_predict"
   ]
  },
  {
   "cell_type": "code",
   "execution_count": 34,
   "metadata": {},
   "outputs": [
    {
     "name": "stderr",
     "output_type": "stream",
     "text": [
      "C:\\Users\\Varun Chandra\\.conda\\envs\\tf_gpu36\\lib\\site-packages\\ipykernel_launcher.py:1: SettingWithCopyWarning: \n",
      "A value is trying to be set on a copy of a slice from a DataFrame.\n",
      "Try using .loc[row_indexer,col_indexer] = value instead\n",
      "\n",
      "See the caveats in the documentation: http://pandas.pydata.org/pandas-docs/stable/user_guide/indexing.html#returning-a-view-versus-a-copy\n",
      "  \"\"\"Entry point for launching an IPython kernel.\n"
     ]
    },
    {
     "data": {
      "text/html": [
       "<div>\n",
       "<style scoped>\n",
       "    .dataframe tbody tr th:only-of-type {\n",
       "        vertical-align: middle;\n",
       "    }\n",
       "\n",
       "    .dataframe tbody tr th {\n",
       "        vertical-align: top;\n",
       "    }\n",
       "\n",
       "    .dataframe thead th {\n",
       "        text-align: right;\n",
       "    }\n",
       "</style>\n",
       "<table border=\"1\" class=\"dataframe\">\n",
       "  <thead>\n",
       "    <tr style=\"text-align: right;\">\n",
       "      <th></th>\n",
       "      <th>NIHSS on admission.1</th>\n",
       "      <th>NIHSS after 1 hr</th>\n",
       "      <th>NIHSS after 6 hrs</th>\n",
       "      <th>Predicted NIHSS after 6 hr</th>\n",
       "    </tr>\n",
       "  </thead>\n",
       "  <tbody>\n",
       "    <tr>\n",
       "      <th>3</th>\n",
       "      <td>6</td>\n",
       "      <td>3.0</td>\n",
       "      <td>NaN</td>\n",
       "      <td>2.333104</td>\n",
       "    </tr>\n",
       "    <tr>\n",
       "      <th>5</th>\n",
       "      <td>9</td>\n",
       "      <td>7.0</td>\n",
       "      <td>NaN</td>\n",
       "      <td>6.286668</td>\n",
       "    </tr>\n",
       "    <tr>\n",
       "      <th>13</th>\n",
       "      <td>5</td>\n",
       "      <td>4.0</td>\n",
       "      <td>NaN</td>\n",
       "      <td>3.477211</td>\n",
       "    </tr>\n",
       "    <tr>\n",
       "      <th>44</th>\n",
       "      <td>10</td>\n",
       "      <td>8.0</td>\n",
       "      <td>NaN</td>\n",
       "      <td>7.252814</td>\n",
       "    </tr>\n",
       "    <tr>\n",
       "      <th>45</th>\n",
       "      <td>9</td>\n",
       "      <td>7.0</td>\n",
       "      <td>NaN</td>\n",
       "      <td>6.286668</td>\n",
       "    </tr>\n",
       "  </tbody>\n",
       "</table>\n",
       "</div>"
      ],
      "text/plain": [
       "    NIHSS on admission.1  NIHSS after 1 hr    NIHSS after 6 hrs  \\\n",
       "3                      6               3.0                  NaN   \n",
       "5                      9               7.0                  NaN   \n",
       "13                     5               4.0                  NaN   \n",
       "44                    10               8.0                  NaN   \n",
       "45                     9               7.0                  NaN   \n",
       "\n",
       "    Predicted NIHSS after 6 hr  \n",
       "3                     2.333104  \n",
       "5                     6.286668  \n",
       "13                    3.477211  \n",
       "44                    7.252814  \n",
       "45                    6.286668  "
      ]
     },
     "execution_count": 34,
     "metadata": {},
     "output_type": "execute_result"
    }
   ],
   "source": [
    "data_to_predict['Predicted NIHSS after 6 hr'] = lm.predict(np.array(data_to_predict[['NIHSS on admission.1', 'NIHSS after 1 hr']]))\n",
    "data_to_predict"
   ]
  },
  {
   "cell_type": "markdown",
   "metadata": {},
   "source": [
    "## Filling in the values in the original dataset"
   ]
  },
  {
   "cell_type": "code",
   "execution_count": 35,
   "metadata": {},
   "outputs": [],
   "source": [
    "new_data = data.copy()"
   ]
  },
  {
   "cell_type": "code",
   "execution_count": 36,
   "metadata": {},
   "outputs": [],
   "source": [
    "lis = data_to_predict.index.to_list()"
   ]
  },
  {
   "cell_type": "code",
   "execution_count": 37,
   "metadata": {},
   "outputs": [],
   "source": [
    "for i in lis:\n",
    "    new_data.loc[i, '  NIHSS after 6 hrs'] = round(data_to_predict.loc[i, 'Predicted NIHSS after 6 hr'])"
   ]
  },
  {
   "cell_type": "code",
   "execution_count": 38,
   "metadata": {},
   "outputs": [
    {
     "data": {
      "text/html": [
       "<div>\n",
       "<style scoped>\n",
       "    .dataframe tbody tr th:only-of-type {\n",
       "        vertical-align: middle;\n",
       "    }\n",
       "\n",
       "    .dataframe tbody tr th {\n",
       "        vertical-align: top;\n",
       "    }\n",
       "\n",
       "    .dataframe thead th {\n",
       "        text-align: right;\n",
       "    }\n",
       "</style>\n",
       "<table border=\"1\" class=\"dataframe\">\n",
       "  <thead>\n",
       "    <tr style=\"text-align: right;\">\n",
       "      <th></th>\n",
       "      <th>NIHSS on admission.1</th>\n",
       "      <th>NIHSS after 1 hr</th>\n",
       "      <th>NIHSS after 6 hrs</th>\n",
       "    </tr>\n",
       "  </thead>\n",
       "  <tbody>\n",
       "    <tr>\n",
       "      <th>3</th>\n",
       "      <td>6</td>\n",
       "      <td>3.0</td>\n",
       "      <td>2.0</td>\n",
       "    </tr>\n",
       "    <tr>\n",
       "      <th>5</th>\n",
       "      <td>9</td>\n",
       "      <td>7.0</td>\n",
       "      <td>6.0</td>\n",
       "    </tr>\n",
       "    <tr>\n",
       "      <th>13</th>\n",
       "      <td>5</td>\n",
       "      <td>4.0</td>\n",
       "      <td>3.0</td>\n",
       "    </tr>\n",
       "    <tr>\n",
       "      <th>44</th>\n",
       "      <td>10</td>\n",
       "      <td>8.0</td>\n",
       "      <td>7.0</td>\n",
       "    </tr>\n",
       "    <tr>\n",
       "      <th>45</th>\n",
       "      <td>9</td>\n",
       "      <td>7.0</td>\n",
       "      <td>6.0</td>\n",
       "    </tr>\n",
       "  </tbody>\n",
       "</table>\n",
       "</div>"
      ],
      "text/plain": [
       "    NIHSS on admission.1  NIHSS after 1 hr    NIHSS after 6 hrs\n",
       "3                      6               3.0                  2.0\n",
       "5                      9               7.0                  6.0\n",
       "13                     5               4.0                  3.0\n",
       "44                    10               8.0                  7.0\n",
       "45                     9               7.0                  6.0"
      ]
     },
     "execution_count": 38,
     "metadata": {},
     "output_type": "execute_result"
    }
   ],
   "source": [
    "new_data.loc[lis, ['NIHSS on admission.1', 'NIHSS after 1 hr', '  NIHSS after 6 hrs']]"
   ]
  },
  {
   "cell_type": "code",
   "execution_count": 39,
   "metadata": {},
   "outputs": [
    {
     "data": {
      "text/plain": [
       "0"
      ]
     },
     "execution_count": 39,
     "metadata": {},
     "output_type": "execute_result"
    }
   ],
   "source": [
    "new_data['  NIHSS after 6 hrs'].isnull().sum()"
   ]
  },
  {
   "cell_type": "code",
   "execution_count": 42,
   "metadata": {},
   "outputs": [
    {
     "name": "stdout",
     "output_type": "stream",
     "text": [
      "<class 'pandas.core.frame.DataFrame'>\n",
      "RangeIndex: 185 entries, 0 to 184\n",
      "Data columns (total 24 columns):\n",
      "Age                                              185 non-null int64\n",
      "Gender                                           185 non-null int64\n",
      "Door to needle time (min )                       185 non-null float64\n",
      "Door-door time                                   185 non-null float64\n",
      "CODING WINDOW                                    185 non-null int64\n",
      "MRS                                              185 non-null int64\n",
      "Hyper tension 1-yes              2- No           185 non-null int64\n",
      "DM                                               185 non-null int64\n",
      "Blood Sugar at the time of admission ( mg/dl)    185 non-null float64\n",
      "Systolic BP                                      185 non-null float64\n",
      "Diastolic BP                                     185 non-null float64\n",
      "CODE SMOKER 1 yes - 2 NO                         185 non-null int64\n",
      "History of Stroke-1 yes - 2 No                   185 non-null int64\n",
      "CODING ANT. POST. COMBINATION                    185 non-null int64\n",
      " Dose of Actilyse/ Weight(mg)                    185 non-null float64\n",
      "HAGE                                             185 non-null int64\n",
      "NIHSS on admission.1                             185 non-null int64\n",
      "NIHSS after 1 hr                                 185 non-null float64\n",
      "  NIHSS after 6 hrs                              185 non-null float64\n",
      "coding of Complications                          185 non-null int64\n",
      "NeuroDeficit_1                                   185 non-null uint8\n",
      "NeuroDeficit_2                                   185 non-null uint8\n",
      "NeuroDeficit_3                                   185 non-null uint8\n",
      "NeuroDeficit_4                                   185 non-null uint8\n",
      "dtypes: float64(8), int64(12), uint8(4)\n",
      "memory usage: 29.8 KB\n"
     ]
    }
   ],
   "source": [
    "new_data.info()"
   ]
  },
  {
   "cell_type": "markdown",
   "metadata": {},
   "source": [
    "## Saving the new Dataset"
   ]
  },
  {
   "cell_type": "code",
   "execution_count": 40,
   "metadata": {},
   "outputs": [],
   "source": [
    "data_pickle = open('final_predicted_data.pickle', 'wb')\n",
    "pickle.dump(new_data, data_pickle)\n",
    "data_pickle.close()"
   ]
  },
  {
   "cell_type": "code",
   "execution_count": 41,
   "metadata": {},
   "outputs": [],
   "source": [
    "new_data.to_excel('final_predicted_data.xlsx')"
   ]
  },
  {
   "cell_type": "code",
   "execution_count": null,
   "metadata": {},
   "outputs": [],
   "source": []
  }
 ],
 "metadata": {
  "kernelspec": {
   "display_name": "Python 3",
   "language": "python",
   "name": "python3"
  },
  "language_info": {
   "codemirror_mode": {
    "name": "ipython",
    "version": 3
   },
   "file_extension": ".py",
   "mimetype": "text/x-python",
   "name": "python",
   "nbconvert_exporter": "python",
   "pygments_lexer": "ipython3",
   "version": "3.6.9"
  }
 },
 "nbformat": 4,
 "nbformat_minor": 2
}
