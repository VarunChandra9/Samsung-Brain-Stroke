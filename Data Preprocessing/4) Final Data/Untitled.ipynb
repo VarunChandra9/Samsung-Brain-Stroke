{
 "cells": [
  {
   "cell_type": "code",
   "execution_count": 1,
   "metadata": {},
   "outputs": [],
   "source": [
    "import pickle\n",
    "import numpy as np\n",
    "import pandas as pd"
   ]
  },
  {
   "cell_type": "code",
   "execution_count": 2,
   "metadata": {},
   "outputs": [],
   "source": [
    "pickle_in = open('cleanData.pickle', 'rb')\n",
    "cleanData = pickle.load(pickle_in)\n",
    "pickle_in.close()"
   ]
  },
  {
   "cell_type": "code",
   "execution_count": 3,
   "metadata": {},
   "outputs": [],
   "source": [
    "pickle_in = open('final_predicted_data.pickle', 'rb')\n",
    "final_predicted_data = pickle.load(pickle_in)\n",
    "pickle_in.close()"
   ]
  },
  {
   "cell_type": "code",
   "execution_count": 5,
   "metadata": {},
   "outputs": [
    {
     "name": "stdout",
     "output_type": "stream",
     "text": [
      "<class 'pandas.core.frame.DataFrame'>\n",
      "RangeIndex: 185 entries, 0 to 184\n",
      "Data columns (total 23 columns):\n",
      "Age                                              185 non-null int64\n",
      "Gender                                           185 non-null int64\n",
      "Door to needle time (min )                       185 non-null int64\n",
      "Door-door time                                   185 non-null int64\n",
      "CODE of Neurological Deficit                     185 non-null int64\n",
      "CODING WINDOW                                    185 non-null int64\n",
      "MRS                                              185 non-null int64\n",
      "Hyper tension 1-yes              2- No           185 non-null int64\n",
      "DM                                               185 non-null int64\n",
      "Blood Sugar at the time of admission ( mg/dl)    185 non-null int64\n",
      "Systolic BP                                      185 non-null int64\n",
      "Diastolic BP                                     185 non-null int64\n",
      "CODE SMOKER 1 yes - 2 NO                         185 non-null int64\n",
      "History of Stroke-1 yes - 2 No                   185 non-null int64\n",
      "CODING ANT. POST. COMBINATION                    185 non-null int64\n",
      "LARGE Vs SMALL ARTERY                            99 non-null float64\n",
      " Dose of Actilyse/ Weight(mg)                    185 non-null int64\n",
      "HAGE                                             185 non-null int64\n",
      "NIHSS on admission.1                             185 non-null int64\n",
      "NIHSS after 1 hr                                 178 non-null float64\n",
      "  NIHSS after 6 hrs                              180 non-null float64\n",
      "coding of Complications                          185 non-null int64\n",
      "Outcome                                          162 non-null object\n",
      "dtypes: float64(3), int64(19), object(1)\n",
      "memory usage: 33.4+ KB\n"
     ]
    }
   ],
   "source": [
    "cleanData.info()"
   ]
  },
  {
   "cell_type": "code",
   "execution_count": 6,
   "metadata": {},
   "outputs": [
    {
     "name": "stdout",
     "output_type": "stream",
     "text": [
      "<class 'pandas.core.frame.DataFrame'>\n",
      "RangeIndex: 185 entries, 0 to 184\n",
      "Data columns (total 24 columns):\n",
      "Age                                              185 non-null int64\n",
      "Gender                                           185 non-null int64\n",
      "Door to needle time (min )                       185 non-null float64\n",
      "Door-door time                                   185 non-null float64\n",
      "CODING WINDOW                                    185 non-null int64\n",
      "MRS                                              185 non-null int64\n",
      "Hyper tension 1-yes              2- No           185 non-null int64\n",
      "DM                                               185 non-null int64\n",
      "Blood Sugar at the time of admission ( mg/dl)    185 non-null float64\n",
      "Systolic BP                                      185 non-null float64\n",
      "Diastolic BP                                     185 non-null float64\n",
      "CODE SMOKER 1 yes - 2 NO                         185 non-null int64\n",
      "History of Stroke-1 yes - 2 No                   185 non-null int64\n",
      "CODING ANT. POST. COMBINATION                    185 non-null int64\n",
      " Dose of Actilyse/ Weight(mg)                    185 non-null float64\n",
      "HAGE                                             185 non-null int64\n",
      "NIHSS on admission.1                             185 non-null int64\n",
      "NIHSS after 1 hr                                 185 non-null float64\n",
      "  NIHSS after 6 hrs                              185 non-null float64\n",
      "coding of Complications                          185 non-null int64\n",
      "NeuroDeficit_1                                   185 non-null uint8\n",
      "NeuroDeficit_2                                   185 non-null uint8\n",
      "NeuroDeficit_3                                   185 non-null uint8\n",
      "NeuroDeficit_4                                   185 non-null uint8\n",
      "dtypes: float64(8), int64(12), uint8(4)\n",
      "memory usage: 29.8 KB\n"
     ]
    }
   ],
   "source": [
    "final_predicted_data.info()"
   ]
  },
  {
   "cell_type": "code",
   "execution_count": 7,
   "metadata": {},
   "outputs": [],
   "source": [
    "finalData = final_predicted_data.copy()"
   ]
  },
  {
   "cell_type": "code",
   "execution_count": 8,
   "metadata": {},
   "outputs": [],
   "source": [
    "finalData['LARGE Vs SMALL ARTERY'] = cleanData['LARGE Vs SMALL ARTERY']"
   ]
  },
  {
   "cell_type": "code",
   "execution_count": 9,
   "metadata": {},
   "outputs": [],
   "source": [
    "finalData['Outcome'] = cleanData['Outcome']"
   ]
  },
  {
   "cell_type": "code",
   "execution_count": 10,
   "metadata": {},
   "outputs": [
    {
     "name": "stdout",
     "output_type": "stream",
     "text": [
      "<class 'pandas.core.frame.DataFrame'>\n",
      "RangeIndex: 185 entries, 0 to 184\n",
      "Data columns (total 26 columns):\n",
      "Age                                              185 non-null int64\n",
      "Gender                                           185 non-null int64\n",
      "Door to needle time (min )                       185 non-null float64\n",
      "Door-door time                                   185 non-null float64\n",
      "CODING WINDOW                                    185 non-null int64\n",
      "MRS                                              185 non-null int64\n",
      "Hyper tension 1-yes              2- No           185 non-null int64\n",
      "DM                                               185 non-null int64\n",
      "Blood Sugar at the time of admission ( mg/dl)    185 non-null float64\n",
      "Systolic BP                                      185 non-null float64\n",
      "Diastolic BP                                     185 non-null float64\n",
      "CODE SMOKER 1 yes - 2 NO                         185 non-null int64\n",
      "History of Stroke-1 yes - 2 No                   185 non-null int64\n",
      "CODING ANT. POST. COMBINATION                    185 non-null int64\n",
      " Dose of Actilyse/ Weight(mg)                    185 non-null float64\n",
      "HAGE                                             185 non-null int64\n",
      "NIHSS on admission.1                             185 non-null int64\n",
      "NIHSS after 1 hr                                 185 non-null float64\n",
      "  NIHSS after 6 hrs                              185 non-null float64\n",
      "coding of Complications                          185 non-null int64\n",
      "NeuroDeficit_1                                   185 non-null uint8\n",
      "NeuroDeficit_2                                   185 non-null uint8\n",
      "NeuroDeficit_3                                   185 non-null uint8\n",
      "NeuroDeficit_4                                   185 non-null uint8\n",
      "LARGE Vs SMALL ARTERY                            99 non-null float64\n",
      "Outcome                                          162 non-null object\n",
      "dtypes: float64(9), int64(12), object(1), uint8(4)\n",
      "memory usage: 32.6+ KB\n"
     ]
    }
   ],
   "source": [
    "finalData.info()"
   ]
  },
  {
   "cell_type": "code",
   "execution_count": 12,
   "metadata": {},
   "outputs": [
    {
     "data": {
      "text/plain": [
       "['Age',\n",
       " 'Gender',\n",
       " 'Door to needle time (min )',\n",
       " 'Door-door time',\n",
       " 'CODING WINDOW ',\n",
       " 'MRS',\n",
       " 'Hyper tension 1-yes              2- No',\n",
       " 'DM',\n",
       " 'Blood Sugar at the time of admission ( mg/dl)',\n",
       " 'Systolic BP',\n",
       " 'Diastolic BP',\n",
       " 'CODE SMOKER 1 yes - 2 NO',\n",
       " 'History of Stroke-1 yes - 2 No',\n",
       " 'CODING ANT. POST. COMBINATION',\n",
       " ' Dose of Actilyse/ Weight(mg)',\n",
       " 'HAGE',\n",
       " 'NIHSS on admission.1',\n",
       " 'NIHSS after 1 hr',\n",
       " '  NIHSS after 6 hrs',\n",
       " 'coding of Complications',\n",
       " 'NeuroDeficit_1',\n",
       " 'NeuroDeficit_2',\n",
       " 'NeuroDeficit_3',\n",
       " 'NeuroDeficit_4',\n",
       " 'LARGE Vs SMALL ARTERY',\n",
       " 'Outcome']"
      ]
     },
     "execution_count": 12,
     "metadata": {},
     "output_type": "execute_result"
    }
   ],
   "source": [
    "finalData.columns.to_list()"
   ]
  },
  {
   "cell_type": "code",
   "execution_count": 14,
   "metadata": {},
   "outputs": [],
   "source": [
    "finalData = finalData[[\n",
    " 'Age',\n",
    " 'Gender',\n",
    " 'Door to needle time (min )',\n",
    " 'Door-door time',\n",
    " 'CODING WINDOW ',\n",
    " 'MRS',\n",
    " 'Hyper tension 1-yes              2- No',\n",
    " 'DM',\n",
    " 'Blood Sugar at the time of admission ( mg/dl)',\n",
    " 'Systolic BP',\n",
    " 'Diastolic BP',\n",
    " 'CODE SMOKER 1 yes - 2 NO',\n",
    " 'History of Stroke-1 yes - 2 No',\n",
    " 'CODING ANT. POST. COMBINATION',\n",
    " ' Dose of Actilyse/ Weight(mg)',\n",
    " 'HAGE',\n",
    " 'NIHSS on admission.1',\n",
    " 'NIHSS after 1 hr',\n",
    " '  NIHSS after 6 hrs',\n",
    " 'NeuroDeficit_1',\n",
    " 'NeuroDeficit_2',\n",
    " 'NeuroDeficit_3',\n",
    " 'NeuroDeficit_4',\n",
    " 'coding of Complications',\n",
    " 'LARGE Vs SMALL ARTERY',\n",
    " 'Outcome'\n",
    "]]"
   ]
  },
  {
   "cell_type": "code",
   "execution_count": 15,
   "metadata": {},
   "outputs": [],
   "source": [
    "# savind the final preprocessed data\n",
    "\n",
    "data_pickle = open('preprocessed_data.pickle', 'wb')\n",
    "pickle.dump(finalData, data_pickle)\n",
    "data_pickle.close()"
   ]
  },
  {
   "cell_type": "code",
   "execution_count": 16,
   "metadata": {},
   "outputs": [],
   "source": [
    "finalData.to_excel('preprocessed_data.xlsx')"
   ]
  },
  {
   "cell_type": "code",
   "execution_count": null,
   "metadata": {},
   "outputs": [],
   "source": []
  }
 ],
 "metadata": {
  "kernelspec": {
   "display_name": "Python 3",
   "language": "python",
   "name": "python3"
  },
  "language_info": {
   "codemirror_mode": {
    "name": "ipython",
    "version": 3
   },
   "file_extension": ".py",
   "mimetype": "text/x-python",
   "name": "python",
   "nbconvert_exporter": "python",
   "pygments_lexer": "ipython3",
   "version": "3.6.9"
  }
 },
 "nbformat": 4,
 "nbformat_minor": 2
}
