{
 "cells": [
  {
   "cell_type": "markdown",
   "metadata": {},
   "source": [
    "## Exploring the data"
   ]
  },
  {
   "cell_type": "code",
   "execution_count": 1,
   "metadata": {},
   "outputs": [],
   "source": [
    "import pandas as pd\n",
    "import numpy as np"
   ]
  },
  {
   "cell_type": "markdown",
   "metadata": {},
   "source": [
    "#### Importing the data`"
   ]
  },
  {
   "cell_type": "code",
   "execution_count": 2,
   "metadata": {},
   "outputs": [
    {
     "name": "stderr",
     "output_type": "stream",
     "text": [
      "C:\\Users\\Varun Chandra\\.conda\\envs\\tf_gpu36\\lib\\site-packages\\IPython\\core\\interactiveshell.py:3058: DtypeWarning: Columns (8,13,15,36,37) have mixed types. Specify dtype option on import or set low_memory=False.\n",
      "  interactivity=interactivity, compiler=compiler, result=result)\n"
     ]
    }
   ],
   "source": [
    "data = pd.read_csv(\"Main Data/datacopy.csv\")"
   ]
  },
  {
   "cell_type": "markdown",
   "metadata": {},
   "source": [
    "#### Exploring the data"
   ]
  },
  {
   "cell_type": "code",
   "execution_count": 3,
   "metadata": {},
   "outputs": [
    {
     "name": "stdout",
     "output_type": "stream",
     "text": [
      "total number of rows :  187\n"
     ]
    }
   ],
   "source": [
    "print(\"total number of rows : \", len(data))"
   ]
  },
  {
   "cell_type": "code",
   "execution_count": 4,
   "metadata": {},
   "outputs": [
    {
     "name": "stdout",
     "output_type": "stream",
     "text": [
      "<class 'pandas.core.frame.DataFrame'>\n",
      "RangeIndex: 187 entries, 0 to 186\n",
      "Columns: 16383 entries, S.No. to Unnamed: 16382\n",
      "dtypes: float64(16367), int64(1), object(15)\n",
      "memory usage: 23.4+ MB\n"
     ]
    }
   ],
   "source": [
    "data.info()"
   ]
  },
  {
   "cell_type": "code",
   "execution_count": 5,
   "metadata": {},
   "outputs": [],
   "source": [
    "data= data.iloc[0: ,0: 48]"
   ]
  },
  {
   "cell_type": "code",
   "execution_count": 6,
   "metadata": {},
   "outputs": [
    {
     "name": "stdout",
     "output_type": "stream",
     "text": [
      "<class 'pandas.core.frame.DataFrame'>\n",
      "RangeIndex: 187 entries, 0 to 186\n",
      "Data columns (total 48 columns):\n",
      "S.No.                                               187 non-null int64\n",
      "Unnamed: 1                                          0 non-null float64\n",
      "Unnamed: 2                                          0 non-null float64\n",
      "Unnamed: 3                                          0 non-null float64\n",
      "Age                                                 185 non-null float64\n",
      "coding                                              185 non-null float64\n",
      "GENDER                                              0 non-null float64\n",
      "Gender                                              184 non-null float64\n",
      "Onset of Symptoms                                   181 non-null object\n",
      " Time of arrival in emergency/OPD - Thrombolysis    185 non-null object\n",
      "Door to needle time (min )                          185 non-null float64\n",
      "Door-door time                                      185 non-null float64\n",
      "Coding                                              185 non-null float64\n",
      " Neurological Deficit with Exact time               99 non-null object\n",
      "CODE of Neurological Deficit                        185 non-null float64\n",
      "  Window Period - Yes/ No  - Up to 4.5 hrs          99 non-null object\n",
      "CODING WINDOW                                       185 non-null float64\n",
      "NIHSS on admission                                  185 non-null float64\n",
      " CODING NIHSS                                       185 non-null float64\n",
      "MRS                                                 183 non-null float64\n",
      "Hyper tension 1-yes              2- No              185 non-null float64\n",
      "DM                                                  185 non-null float64\n",
      "Blood Pressure at the time of admission             185 non-null object\n",
      "Coding.1                                            185 non-null float64\n",
      "Blood Sugar at the time of admission ( mg/dl)       185 non-null float64\n",
      "Coding.2                                            185 non-null float64\n",
      "MRI Brain/ CT Head                                  183 non-null object\n",
      "CODING ANT. POST. COMBINATION                       185 non-null float64\n",
      "LARGE Vs SMALL ARTERY                               99 non-null float64\n",
      "Repeat Imaging                                      169 non-null object\n",
      "HAGE                                                185 non-null float64\n",
      " Dose of Actilyse/ Weight(mg)                       185 non-null float64\n",
      "coding .1                                           99 non-null float64\n",
      "NIHSS on admission.1                                185 non-null float64\n",
      "NIHSS after 1 hr                                    178 non-null float64\n",
      "  NIHSS after 6 hrs                                 180 non-null float64\n",
      "   NIHSS on discharge/ MRS                          167 non-null object\n",
      "Complications                                       97 non-null object\n",
      "coding of Complications                             185 non-null float64\n",
      "Outcome                                             162 non-null object\n",
      "CAD - 1- YES-2 - NO                                 38 non-null float64\n",
      "2D ECHO                                             132 non-null object\n",
      "MRA (BRAIN/NECK)                                    110 non-null object\n",
      "CAROTID DOPPLER                                     121 non-null object\n",
      "OTHER CO- MORBIDITY                                 122 non-null object\n",
      "ADDICTION                                           129 non-null object\n",
      "CODE SMOKER 1 yes - 2 NO                            184 non-null float64\n",
      "History of Stroke-1 yes - 2 No                      185 non-null float64\n",
      "dtypes: float64(32), int64(1), object(15)\n",
      "memory usage: 70.2+ KB\n"
     ]
    }
   ],
   "source": [
    "data.info()"
   ]
  },
  {
   "cell_type": "code",
   "execution_count": 7,
   "metadata": {},
   "outputs": [
    {
     "data": {
      "text/html": [
       "<div>\n",
       "<style scoped>\n",
       "    .dataframe tbody tr th:only-of-type {\n",
       "        vertical-align: middle;\n",
       "    }\n",
       "\n",
       "    .dataframe tbody tr th {\n",
       "        vertical-align: top;\n",
       "    }\n",
       "\n",
       "    .dataframe thead th {\n",
       "        text-align: right;\n",
       "    }\n",
       "</style>\n",
       "<table border=\"1\" class=\"dataframe\">\n",
       "  <thead>\n",
       "    <tr style=\"text-align: right;\">\n",
       "      <th></th>\n",
       "      <th>0</th>\n",
       "    </tr>\n",
       "  </thead>\n",
       "  <tbody>\n",
       "    <tr>\n",
       "      <th>0</th>\n",
       "      <td>S.No.</td>\n",
       "    </tr>\n",
       "    <tr>\n",
       "      <th>1</th>\n",
       "      <td>Unnamed: 1</td>\n",
       "    </tr>\n",
       "    <tr>\n",
       "      <th>2</th>\n",
       "      <td>Unnamed: 2</td>\n",
       "    </tr>\n",
       "    <tr>\n",
       "      <th>3</th>\n",
       "      <td>Unnamed: 3</td>\n",
       "    </tr>\n",
       "    <tr>\n",
       "      <th>4</th>\n",
       "      <td>Age</td>\n",
       "    </tr>\n",
       "    <tr>\n",
       "      <th>5</th>\n",
       "      <td>coding</td>\n",
       "    </tr>\n",
       "    <tr>\n",
       "      <th>6</th>\n",
       "      <td>GENDER</td>\n",
       "    </tr>\n",
       "    <tr>\n",
       "      <th>7</th>\n",
       "      <td>Gender</td>\n",
       "    </tr>\n",
       "    <tr>\n",
       "      <th>8</th>\n",
       "      <td>Onset of Symptoms</td>\n",
       "    </tr>\n",
       "    <tr>\n",
       "      <th>9</th>\n",
       "      <td>Time of arrival in emergency/OPD - Thrombolysis</td>\n",
       "    </tr>\n",
       "    <tr>\n",
       "      <th>10</th>\n",
       "      <td>Door to needle time (min )</td>\n",
       "    </tr>\n",
       "    <tr>\n",
       "      <th>11</th>\n",
       "      <td>Door-door time</td>\n",
       "    </tr>\n",
       "    <tr>\n",
       "      <th>12</th>\n",
       "      <td>Coding</td>\n",
       "    </tr>\n",
       "    <tr>\n",
       "      <th>13</th>\n",
       "      <td>Neurological Deficit with Exact time</td>\n",
       "    </tr>\n",
       "    <tr>\n",
       "      <th>14</th>\n",
       "      <td>CODE of Neurological Deficit</td>\n",
       "    </tr>\n",
       "    <tr>\n",
       "      <th>15</th>\n",
       "      <td>Window Period - Yes/ No  - Up to 4.5 hrs</td>\n",
       "    </tr>\n",
       "    <tr>\n",
       "      <th>16</th>\n",
       "      <td>CODING WINDOW</td>\n",
       "    </tr>\n",
       "    <tr>\n",
       "      <th>17</th>\n",
       "      <td>NIHSS on admission</td>\n",
       "    </tr>\n",
       "    <tr>\n",
       "      <th>18</th>\n",
       "      <td>CODING NIHSS</td>\n",
       "    </tr>\n",
       "    <tr>\n",
       "      <th>19</th>\n",
       "      <td>MRS</td>\n",
       "    </tr>\n",
       "    <tr>\n",
       "      <th>20</th>\n",
       "      <td>Hyper tension 1-yes              2- No</td>\n",
       "    </tr>\n",
       "    <tr>\n",
       "      <th>21</th>\n",
       "      <td>DM</td>\n",
       "    </tr>\n",
       "    <tr>\n",
       "      <th>22</th>\n",
       "      <td>Blood Pressure at the time of admission</td>\n",
       "    </tr>\n",
       "    <tr>\n",
       "      <th>23</th>\n",
       "      <td>Coding.1</td>\n",
       "    </tr>\n",
       "    <tr>\n",
       "      <th>24</th>\n",
       "      <td>Blood Sugar at the time of admission ( mg/dl)</td>\n",
       "    </tr>\n",
       "    <tr>\n",
       "      <th>25</th>\n",
       "      <td>Coding.2</td>\n",
       "    </tr>\n",
       "    <tr>\n",
       "      <th>26</th>\n",
       "      <td>MRI Brain/ CT Head</td>\n",
       "    </tr>\n",
       "    <tr>\n",
       "      <th>27</th>\n",
       "      <td>CODING ANT. POST. COMBINATION</td>\n",
       "    </tr>\n",
       "    <tr>\n",
       "      <th>28</th>\n",
       "      <td>LARGE Vs SMALL ARTERY</td>\n",
       "    </tr>\n",
       "    <tr>\n",
       "      <th>29</th>\n",
       "      <td>Repeat Imaging</td>\n",
       "    </tr>\n",
       "    <tr>\n",
       "      <th>30</th>\n",
       "      <td>HAGE</td>\n",
       "    </tr>\n",
       "    <tr>\n",
       "      <th>31</th>\n",
       "      <td>Dose of Actilyse/ Weight(mg)</td>\n",
       "    </tr>\n",
       "    <tr>\n",
       "      <th>32</th>\n",
       "      <td>coding .1</td>\n",
       "    </tr>\n",
       "    <tr>\n",
       "      <th>33</th>\n",
       "      <td>NIHSS on admission.1</td>\n",
       "    </tr>\n",
       "    <tr>\n",
       "      <th>34</th>\n",
       "      <td>NIHSS after 1 hr</td>\n",
       "    </tr>\n",
       "    <tr>\n",
       "      <th>35</th>\n",
       "      <td>NIHSS after 6 hrs</td>\n",
       "    </tr>\n",
       "    <tr>\n",
       "      <th>36</th>\n",
       "      <td>NIHSS on discharge/ MRS</td>\n",
       "    </tr>\n",
       "    <tr>\n",
       "      <th>37</th>\n",
       "      <td>Complications</td>\n",
       "    </tr>\n",
       "    <tr>\n",
       "      <th>38</th>\n",
       "      <td>coding of Complications</td>\n",
       "    </tr>\n",
       "    <tr>\n",
       "      <th>39</th>\n",
       "      <td>Outcome</td>\n",
       "    </tr>\n",
       "    <tr>\n",
       "      <th>40</th>\n",
       "      <td>CAD - 1- YES-2 - NO</td>\n",
       "    </tr>\n",
       "    <tr>\n",
       "      <th>41</th>\n",
       "      <td>2D ECHO</td>\n",
       "    </tr>\n",
       "    <tr>\n",
       "      <th>42</th>\n",
       "      <td>MRA (BRAIN/NECK)</td>\n",
       "    </tr>\n",
       "    <tr>\n",
       "      <th>43</th>\n",
       "      <td>CAROTID DOPPLER</td>\n",
       "    </tr>\n",
       "    <tr>\n",
       "      <th>44</th>\n",
       "      <td>OTHER CO- MORBIDITY</td>\n",
       "    </tr>\n",
       "    <tr>\n",
       "      <th>45</th>\n",
       "      <td>ADDICTION</td>\n",
       "    </tr>\n",
       "    <tr>\n",
       "      <th>46</th>\n",
       "      <td>CODE SMOKER 1 yes - 2 NO</td>\n",
       "    </tr>\n",
       "    <tr>\n",
       "      <th>47</th>\n",
       "      <td>History of Stroke-1 yes - 2 No</td>\n",
       "    </tr>\n",
       "  </tbody>\n",
       "</table>\n",
       "</div>"
      ],
      "text/plain": [
       "                                                   0\n",
       "0                                              S.No.\n",
       "1                                         Unnamed: 1\n",
       "2                                         Unnamed: 2\n",
       "3                                         Unnamed: 3\n",
       "4                                                Age\n",
       "5                                            coding \n",
       "6                                             GENDER\n",
       "7                                             Gender\n",
       "8                                  Onset of Symptoms\n",
       "9    Time of arrival in emergency/OPD - Thrombolysis\n",
       "10                        Door to needle time (min )\n",
       "11                                    Door-door time\n",
       "12                                            Coding\n",
       "13              Neurological Deficit with Exact time\n",
       "14                     CODE of Neurological Deficit \n",
       "15          Window Period - Yes/ No  - Up to 4.5 hrs\n",
       "16                                    CODING WINDOW \n",
       "17                                NIHSS on admission\n",
       "18                                     CODING NIHSS \n",
       "19                                               MRS\n",
       "20            Hyper tension 1-yes              2- No\n",
       "21                                                DM\n",
       "22           Blood Pressure at the time of admission\n",
       "23                                          Coding.1\n",
       "24     Blood Sugar at the time of admission ( mg/dl)\n",
       "25                                          Coding.2\n",
       "26                                MRI Brain/ CT Head\n",
       "27                     CODING ANT. POST. COMBINATION\n",
       "28                             LARGE Vs SMALL ARTERY\n",
       "29                                    Repeat Imaging\n",
       "30                                              HAGE\n",
       "31                      Dose of Actilyse/ Weight(mg)\n",
       "32                                         coding .1\n",
       "33                              NIHSS on admission.1\n",
       "34                                  NIHSS after 1 hr\n",
       "35                                 NIHSS after 6 hrs\n",
       "36                           NIHSS on discharge/ MRS\n",
       "37                                     Complications\n",
       "38                           coding of Complications\n",
       "39                                           Outcome\n",
       "40                               CAD - 1- YES-2 - NO\n",
       "41                                           2D ECHO\n",
       "42                                  MRA (BRAIN/NECK)\n",
       "43                                  CAROTID DOPPLER \n",
       "44                               OTHER CO- MORBIDITY\n",
       "45                                         ADDICTION\n",
       "46                          CODE SMOKER 1 yes - 2 NO\n",
       "47                    History of Stroke-1 yes - 2 No"
      ]
     },
     "execution_count": 7,
     "metadata": {},
     "output_type": "execute_result"
    }
   ],
   "source": [
    "all_cols = pd.DataFrame(pd.Series(data.columns))\n",
    "all_cols"
   ]
  },
  {
   "cell_type": "markdown",
   "metadata": {},
   "source": [
    "#### Selecting Columns "
   ]
  },
  {
   "cell_type": "code",
   "execution_count": 8,
   "metadata": {},
   "outputs": [
    {
     "data": {
      "text/html": [
       "<div>\n",
       "<style scoped>\n",
       "    .dataframe tbody tr th:only-of-type {\n",
       "        vertical-align: middle;\n",
       "    }\n",
       "\n",
       "    .dataframe tbody tr th {\n",
       "        vertical-align: top;\n",
       "    }\n",
       "\n",
       "    .dataframe thead th {\n",
       "        text-align: right;\n",
       "    }\n",
       "</style>\n",
       "<table border=\"1\" class=\"dataframe\">\n",
       "  <thead>\n",
       "    <tr style=\"text-align: right;\">\n",
       "      <th></th>\n",
       "      <th>0</th>\n",
       "    </tr>\n",
       "  </thead>\n",
       "  <tbody>\n",
       "    <tr>\n",
       "      <th>4</th>\n",
       "      <td>Age</td>\n",
       "    </tr>\n",
       "    <tr>\n",
       "      <th>7</th>\n",
       "      <td>Gender</td>\n",
       "    </tr>\n",
       "    <tr>\n",
       "      <th>10</th>\n",
       "      <td>Door to needle time (min )</td>\n",
       "    </tr>\n",
       "    <tr>\n",
       "      <th>11</th>\n",
       "      <td>Door-door time</td>\n",
       "    </tr>\n",
       "    <tr>\n",
       "      <th>14</th>\n",
       "      <td>CODE of Neurological Deficit</td>\n",
       "    </tr>\n",
       "    <tr>\n",
       "      <th>16</th>\n",
       "      <td>CODING WINDOW</td>\n",
       "    </tr>\n",
       "    <tr>\n",
       "      <th>19</th>\n",
       "      <td>MRS</td>\n",
       "    </tr>\n",
       "    <tr>\n",
       "      <th>20</th>\n",
       "      <td>Hyper tension 1-yes              2- No</td>\n",
       "    </tr>\n",
       "    <tr>\n",
       "      <th>21</th>\n",
       "      <td>DM</td>\n",
       "    </tr>\n",
       "    <tr>\n",
       "      <th>22</th>\n",
       "      <td>Blood Pressure at the time of admission</td>\n",
       "    </tr>\n",
       "    <tr>\n",
       "      <th>24</th>\n",
       "      <td>Blood Sugar at the time of admission ( mg/dl)</td>\n",
       "    </tr>\n",
       "    <tr>\n",
       "      <th>27</th>\n",
       "      <td>CODING ANT. POST. COMBINATION</td>\n",
       "    </tr>\n",
       "    <tr>\n",
       "      <th>28</th>\n",
       "      <td>LARGE Vs SMALL ARTERY</td>\n",
       "    </tr>\n",
       "    <tr>\n",
       "      <th>30</th>\n",
       "      <td>HAGE</td>\n",
       "    </tr>\n",
       "    <tr>\n",
       "      <th>31</th>\n",
       "      <td>Dose of Actilyse/ Weight(mg)</td>\n",
       "    </tr>\n",
       "    <tr>\n",
       "      <th>33</th>\n",
       "      <td>NIHSS on admission.1</td>\n",
       "    </tr>\n",
       "    <tr>\n",
       "      <th>34</th>\n",
       "      <td>NIHSS after 1 hr</td>\n",
       "    </tr>\n",
       "    <tr>\n",
       "      <th>35</th>\n",
       "      <td>NIHSS after 6 hrs</td>\n",
       "    </tr>\n",
       "    <tr>\n",
       "      <th>38</th>\n",
       "      <td>coding of Complications</td>\n",
       "    </tr>\n",
       "    <tr>\n",
       "      <th>39</th>\n",
       "      <td>Outcome</td>\n",
       "    </tr>\n",
       "    <tr>\n",
       "      <th>46</th>\n",
       "      <td>CODE SMOKER 1 yes - 2 NO</td>\n",
       "    </tr>\n",
       "    <tr>\n",
       "      <th>47</th>\n",
       "      <td>History of Stroke-1 yes - 2 No</td>\n",
       "    </tr>\n",
       "  </tbody>\n",
       "</table>\n",
       "</div>"
      ],
      "text/plain": [
       "                                                0\n",
       "4                                             Age\n",
       "7                                          Gender\n",
       "10                     Door to needle time (min )\n",
       "11                                 Door-door time\n",
       "14                  CODE of Neurological Deficit \n",
       "16                                 CODING WINDOW \n",
       "19                                            MRS\n",
       "20         Hyper tension 1-yes              2- No\n",
       "21                                             DM\n",
       "22        Blood Pressure at the time of admission\n",
       "24  Blood Sugar at the time of admission ( mg/dl)\n",
       "27                  CODING ANT. POST. COMBINATION\n",
       "28                          LARGE Vs SMALL ARTERY\n",
       "30                                           HAGE\n",
       "31                   Dose of Actilyse/ Weight(mg)\n",
       "33                           NIHSS on admission.1\n",
       "34                               NIHSS after 1 hr\n",
       "35                              NIHSS after 6 hrs\n",
       "38                        coding of Complications\n",
       "39                                        Outcome\n",
       "46                       CODE SMOKER 1 yes - 2 NO\n",
       "47                 History of Stroke-1 yes - 2 No"
      ]
     },
     "execution_count": 8,
     "metadata": {},
     "output_type": "execute_result"
    }
   ],
   "source": [
    "s_cols = all_cols.loc[[4, 7, 10, 11, 14, 16, 19, 20, 21, 22, 24, 27, 28, 30, 31, 33, 34, 35, 38, 39, 46, 47]]\n",
    "s_cols # Selected Columns"
   ]
  },
  {
   "cell_type": "markdown",
   "metadata": {},
   "source": [
    "#### Reducing the data to the selected columns"
   ]
  },
  {
   "cell_type": "code",
   "execution_count": 9,
   "metadata": {},
   "outputs": [],
   "source": [
    "# Selected Data\n",
    "s_data = data.iloc[:, [4, 7, 10, 11, 14, 16, 19, 20, 21, 22, 24, 27, 28, 30, 31, 33, 34, 35, 38, 39, 46, 47]] # Selected the columns"
   ]
  },
  {
   "cell_type": "code",
   "execution_count": 10,
   "metadata": {},
   "outputs": [
    {
     "data": {
      "text/html": [
       "<div>\n",
       "<style scoped>\n",
       "    .dataframe tbody tr th:only-of-type {\n",
       "        vertical-align: middle;\n",
       "    }\n",
       "\n",
       "    .dataframe tbody tr th {\n",
       "        vertical-align: top;\n",
       "    }\n",
       "\n",
       "    .dataframe thead th {\n",
       "        text-align: right;\n",
       "    }\n",
       "</style>\n",
       "<table border=\"1\" class=\"dataframe\">\n",
       "  <thead>\n",
       "    <tr style=\"text-align: right;\">\n",
       "      <th></th>\n",
       "      <th>Age</th>\n",
       "      <th>Gender</th>\n",
       "      <th>Door to needle time (min )</th>\n",
       "      <th>Door-door time</th>\n",
       "      <th>CODE of Neurological Deficit</th>\n",
       "      <th>CODING WINDOW</th>\n",
       "      <th>MRS</th>\n",
       "      <th>Hyper tension 1-yes              2- No</th>\n",
       "      <th>DM</th>\n",
       "      <th>Blood Pressure at the time of admission</th>\n",
       "      <th>...</th>\n",
       "      <th>LARGE Vs SMALL ARTERY</th>\n",
       "      <th>HAGE</th>\n",
       "      <th>Dose of Actilyse/ Weight(mg)</th>\n",
       "      <th>NIHSS on admission.1</th>\n",
       "      <th>NIHSS after 1 hr</th>\n",
       "      <th>NIHSS after 6 hrs</th>\n",
       "      <th>coding of Complications</th>\n",
       "      <th>Outcome</th>\n",
       "      <th>CODE SMOKER 1 yes - 2 NO</th>\n",
       "      <th>History of Stroke-1 yes - 2 No</th>\n",
       "    </tr>\n",
       "  </thead>\n",
       "  <tbody>\n",
       "    <tr>\n",
       "      <th>0</th>\n",
       "      <td>65.0</td>\n",
       "      <td>1.0</td>\n",
       "      <td>20.0</td>\n",
       "      <td>120.0</td>\n",
       "      <td>1.0</td>\n",
       "      <td>1.0</td>\n",
       "      <td>4.0</td>\n",
       "      <td>1.0</td>\n",
       "      <td>1.0</td>\n",
       "      <td>150/80</td>\n",
       "      <td>...</td>\n",
       "      <td>1.0</td>\n",
       "      <td>1.0</td>\n",
       "      <td>45.0</td>\n",
       "      <td>14.0</td>\n",
       "      <td>12.0</td>\n",
       "      <td>10.0</td>\n",
       "      <td>1.0</td>\n",
       "      <td>Improved</td>\n",
       "      <td>2.0</td>\n",
       "      <td>2.0</td>\n",
       "    </tr>\n",
       "    <tr>\n",
       "      <th>1</th>\n",
       "      <td>38.0</td>\n",
       "      <td>1.0</td>\n",
       "      <td>30.0</td>\n",
       "      <td>180.0</td>\n",
       "      <td>1.0</td>\n",
       "      <td>1.0</td>\n",
       "      <td>4.0</td>\n",
       "      <td>2.0</td>\n",
       "      <td>2.0</td>\n",
       "      <td>130/80</td>\n",
       "      <td>...</td>\n",
       "      <td>2.0</td>\n",
       "      <td>1.0</td>\n",
       "      <td>50.0</td>\n",
       "      <td>13.0</td>\n",
       "      <td>10.0</td>\n",
       "      <td>10.0</td>\n",
       "      <td>1.0</td>\n",
       "      <td>Improved</td>\n",
       "      <td>1.0</td>\n",
       "      <td>2.0</td>\n",
       "    </tr>\n",
       "    <tr>\n",
       "      <th>2</th>\n",
       "      <td>45.0</td>\n",
       "      <td>2.0</td>\n",
       "      <td>25.0</td>\n",
       "      <td>120.0</td>\n",
       "      <td>4.0</td>\n",
       "      <td>1.0</td>\n",
       "      <td>5.0</td>\n",
       "      <td>1.0</td>\n",
       "      <td>2.0</td>\n",
       "      <td>160/100</td>\n",
       "      <td>...</td>\n",
       "      <td>2.0</td>\n",
       "      <td>2.0</td>\n",
       "      <td>50.0</td>\n",
       "      <td>19.0</td>\n",
       "      <td>19.0</td>\n",
       "      <td>19.0</td>\n",
       "      <td>3.0</td>\n",
       "      <td>died</td>\n",
       "      <td>2.0</td>\n",
       "      <td>2.0</td>\n",
       "    </tr>\n",
       "    <tr>\n",
       "      <th>3</th>\n",
       "      <td>50.0</td>\n",
       "      <td>1.0</td>\n",
       "      <td>30.0</td>\n",
       "      <td>190.0</td>\n",
       "      <td>1.0</td>\n",
       "      <td>1.0</td>\n",
       "      <td>4.0</td>\n",
       "      <td>1.0</td>\n",
       "      <td>1.0</td>\n",
       "      <td>160/100</td>\n",
       "      <td>...</td>\n",
       "      <td>2.0</td>\n",
       "      <td>1.0</td>\n",
       "      <td>50.0</td>\n",
       "      <td>6.0</td>\n",
       "      <td>3.0</td>\n",
       "      <td>NaN</td>\n",
       "      <td>1.0</td>\n",
       "      <td>Pt initially improved NIHSS 5 , Later on deter...</td>\n",
       "      <td>2.0</td>\n",
       "      <td>2.0</td>\n",
       "    </tr>\n",
       "    <tr>\n",
       "      <th>4</th>\n",
       "      <td>45.0</td>\n",
       "      <td>1.0</td>\n",
       "      <td>40.0</td>\n",
       "      <td>170.0</td>\n",
       "      <td>2.0</td>\n",
       "      <td>1.0</td>\n",
       "      <td>5.0</td>\n",
       "      <td>1.0</td>\n",
       "      <td>2.0</td>\n",
       "      <td>160/100</td>\n",
       "      <td>...</td>\n",
       "      <td>2.0</td>\n",
       "      <td>1.0</td>\n",
       "      <td>50.0</td>\n",
       "      <td>15.0</td>\n",
       "      <td>5.0</td>\n",
       "      <td>6.0</td>\n",
       "      <td>1.0</td>\n",
       "      <td>NaN</td>\n",
       "      <td>2.0</td>\n",
       "      <td>2.0</td>\n",
       "    </tr>\n",
       "  </tbody>\n",
       "</table>\n",
       "<p>5 rows × 22 columns</p>\n",
       "</div>"
      ],
      "text/plain": [
       "    Age  Gender  Door to needle time (min )  Door-door time  \\\n",
       "0  65.0     1.0                        20.0           120.0   \n",
       "1  38.0     1.0                        30.0           180.0   \n",
       "2  45.0     2.0                        25.0           120.0   \n",
       "3  50.0     1.0                        30.0           190.0   \n",
       "4  45.0     1.0                        40.0           170.0   \n",
       "\n",
       "   CODE of Neurological Deficit   CODING WINDOW   MRS  \\\n",
       "0                            1.0             1.0  4.0   \n",
       "1                            1.0             1.0  4.0   \n",
       "2                            4.0             1.0  5.0   \n",
       "3                            1.0             1.0  4.0   \n",
       "4                            2.0             1.0  5.0   \n",
       "\n",
       "   Hyper tension 1-yes              2- No   DM  \\\n",
       "0                                     1.0  1.0   \n",
       "1                                     2.0  2.0   \n",
       "2                                     1.0  2.0   \n",
       "3                                     1.0  1.0   \n",
       "4                                     1.0  2.0   \n",
       "\n",
       "  Blood Pressure at the time of admission  ...  LARGE Vs SMALL ARTERY  HAGE  \\\n",
       "0                                  150/80  ...                    1.0   1.0   \n",
       "1                                  130/80  ...                    2.0   1.0   \n",
       "2                                 160/100  ...                    2.0   2.0   \n",
       "3                                 160/100  ...                    2.0   1.0   \n",
       "4                                 160/100  ...                    2.0   1.0   \n",
       "\n",
       "    Dose of Actilyse/ Weight(mg)  NIHSS on admission.1  NIHSS after 1 hr  \\\n",
       "0                           45.0                  14.0              12.0   \n",
       "1                           50.0                  13.0              10.0   \n",
       "2                           50.0                  19.0              19.0   \n",
       "3                           50.0                   6.0               3.0   \n",
       "4                           50.0                  15.0               5.0   \n",
       "\n",
       "     NIHSS after 6 hrs  coding of Complications  \\\n",
       "0                 10.0                      1.0   \n",
       "1                 10.0                      1.0   \n",
       "2                 19.0                      3.0   \n",
       "3                  NaN                      1.0   \n",
       "4                  6.0                      1.0   \n",
       "\n",
       "                                             Outcome  \\\n",
       "0                                           Improved   \n",
       "1                                           Improved   \n",
       "2                                               died   \n",
       "3  Pt initially improved NIHSS 5 , Later on deter...   \n",
       "4                                                NaN   \n",
       "\n",
       "   CODE SMOKER 1 yes - 2 NO History of Stroke-1 yes - 2 No  \n",
       "0                       2.0                            2.0  \n",
       "1                       1.0                            2.0  \n",
       "2                       2.0                            2.0  \n",
       "3                       2.0                            2.0  \n",
       "4                       2.0                            2.0  \n",
       "\n",
       "[5 rows x 22 columns]"
      ]
     },
     "execution_count": 10,
     "metadata": {},
     "output_type": "execute_result"
    }
   ],
   "source": [
    "s_data.head()"
   ]
  },
  {
   "cell_type": "code",
   "execution_count": 11,
   "metadata": {},
   "outputs": [
    {
     "data": {
      "text/plain": [
       "Index(['Age', 'Gender', 'Door to needle time (min )', 'Door-door time',\n",
       "       'CODE of Neurological Deficit ', 'CODING WINDOW ', 'MRS',\n",
       "       'Hyper tension 1-yes              2- No', 'DM',\n",
       "       'Blood Pressure at the time of admission',\n",
       "       'Blood Sugar at the time of admission ( mg/dl)',\n",
       "       'CODING ANT. POST. COMBINATION', 'LARGE Vs SMALL ARTERY', 'HAGE',\n",
       "       ' Dose of Actilyse/ Weight(mg)', 'NIHSS on admission.1',\n",
       "       'NIHSS after 1 hr', '  NIHSS after 6 hrs', 'coding of Complications',\n",
       "       'Outcome', 'CODE SMOKER 1 yes - 2 NO',\n",
       "       'History of Stroke-1 yes - 2 No'],\n",
       "      dtype='object')"
      ]
     },
     "execution_count": 11,
     "metadata": {},
     "output_type": "execute_result"
    }
   ],
   "source": [
    "s_data.columns"
   ]
  },
  {
   "cell_type": "markdown",
   "metadata": {},
   "source": [
    "#### Exploring the reduced data"
   ]
  },
  {
   "cell_type": "code",
   "execution_count": 12,
   "metadata": {},
   "outputs": [
    {
     "name": "stdout",
     "output_type": "stream",
     "text": [
      "<class 'pandas.core.frame.DataFrame'>\n",
      "RangeIndex: 187 entries, 0 to 186\n",
      "Data columns (total 22 columns):\n",
      "Age                                              185 non-null float64\n",
      "Gender                                           184 non-null float64\n",
      "Door to needle time (min )                       185 non-null float64\n",
      "Door-door time                                   185 non-null float64\n",
      "CODE of Neurological Deficit                     185 non-null float64\n",
      "CODING WINDOW                                    185 non-null float64\n",
      "MRS                                              183 non-null float64\n",
      "Hyper tension 1-yes              2- No           185 non-null float64\n",
      "DM                                               185 non-null float64\n",
      "Blood Pressure at the time of admission          185 non-null object\n",
      "Blood Sugar at the time of admission ( mg/dl)    185 non-null float64\n",
      "CODING ANT. POST. COMBINATION                    185 non-null float64\n",
      "LARGE Vs SMALL ARTERY                            99 non-null float64\n",
      "HAGE                                             185 non-null float64\n",
      " Dose of Actilyse/ Weight(mg)                    185 non-null float64\n",
      "NIHSS on admission.1                             185 non-null float64\n",
      "NIHSS after 1 hr                                 178 non-null float64\n",
      "  NIHSS after 6 hrs                              180 non-null float64\n",
      "coding of Complications                          185 non-null float64\n",
      "Outcome                                          162 non-null object\n",
      "CODE SMOKER 1 yes - 2 NO                         184 non-null float64\n",
      "History of Stroke-1 yes - 2 No                   185 non-null float64\n",
      "dtypes: float64(20), object(2)\n",
      "memory usage: 32.3+ KB\n"
     ]
    }
   ],
   "source": [
    "s_data.info()"
   ]
  },
  {
   "cell_type": "markdown",
   "metadata": {},
   "source": [
    "## Handling Missing Values"
   ]
  },
  {
   "cell_type": "code",
   "execution_count": 13,
   "metadata": {},
   "outputs": [
    {
     "data": {
      "text/plain": [
       "Age                                               2\n",
       "Gender                                            3\n",
       "Door to needle time (min )                        2\n",
       "Door-door time                                    2\n",
       "CODE of Neurological Deficit                      2\n",
       "CODING WINDOW                                     2\n",
       "MRS                                               4\n",
       "Hyper tension 1-yes              2- No            2\n",
       "DM                                                2\n",
       "Blood Pressure at the time of admission           2\n",
       "Blood Sugar at the time of admission ( mg/dl)     2\n",
       "CODING ANT. POST. COMBINATION                     2\n",
       "LARGE Vs SMALL ARTERY                            88\n",
       "HAGE                                              2\n",
       " Dose of Actilyse/ Weight(mg)                     2\n",
       "NIHSS on admission.1                              2\n",
       "NIHSS after 1 hr                                  9\n",
       "  NIHSS after 6 hrs                               7\n",
       "coding of Complications                           2\n",
       "Outcome                                          25\n",
       "CODE SMOKER 1 yes - 2 NO                          3\n",
       "History of Stroke-1 yes - 2 No                    2\n",
       "dtype: int64"
      ]
     },
     "execution_count": 13,
     "metadata": {},
     "output_type": "execute_result"
    }
   ],
   "source": [
    "s_data.isnull().sum() # number of missing values in each column"
   ]
  },
  {
   "cell_type": "markdown",
   "metadata": {},
   "source": [
    "#### Dropping those rows with all values missing"
   ]
  },
  {
   "cell_type": "code",
   "execution_count": 14,
   "metadata": {},
   "outputs": [
    {
     "data": {
      "text/plain": [
       "(185, 22)"
      ]
     },
     "execution_count": 14,
     "metadata": {},
     "output_type": "execute_result"
    }
   ],
   "source": [
    "s_data.dropna(how = 'all').shape"
   ]
  },
  {
   "cell_type": "markdown",
   "metadata": {},
   "source": [
    "#### Handling Age"
   ]
  },
  {
   "cell_type": "code",
   "execution_count": 15,
   "metadata": {},
   "outputs": [
    {
     "data": {
      "text/plain": [
       "2"
      ]
     },
     "execution_count": 15,
     "metadata": {},
     "output_type": "execute_result"
    }
   ],
   "source": [
    "s_data[\"Age\"].isnull().sum() # Number of missing values in age"
   ]
  },
  {
   "cell_type": "code",
   "execution_count": 16,
   "metadata": {},
   "outputs": [
    {
     "data": {
      "text/html": [
       "<div>\n",
       "<style scoped>\n",
       "    .dataframe tbody tr th:only-of-type {\n",
       "        vertical-align: middle;\n",
       "    }\n",
       "\n",
       "    .dataframe tbody tr th {\n",
       "        vertical-align: top;\n",
       "    }\n",
       "\n",
       "    .dataframe thead th {\n",
       "        text-align: right;\n",
       "    }\n",
       "</style>\n",
       "<table border=\"1\" class=\"dataframe\">\n",
       "  <thead>\n",
       "    <tr style=\"text-align: right;\">\n",
       "      <th></th>\n",
       "      <th>Age</th>\n",
       "      <th>Gender</th>\n",
       "      <th>Door to needle time (min )</th>\n",
       "      <th>Door-door time</th>\n",
       "      <th>CODE of Neurological Deficit</th>\n",
       "      <th>CODING WINDOW</th>\n",
       "      <th>MRS</th>\n",
       "      <th>Hyper tension 1-yes              2- No</th>\n",
       "      <th>DM</th>\n",
       "      <th>Blood Pressure at the time of admission</th>\n",
       "      <th>...</th>\n",
       "      <th>LARGE Vs SMALL ARTERY</th>\n",
       "      <th>HAGE</th>\n",
       "      <th>Dose of Actilyse/ Weight(mg)</th>\n",
       "      <th>NIHSS on admission.1</th>\n",
       "      <th>NIHSS after 1 hr</th>\n",
       "      <th>NIHSS after 6 hrs</th>\n",
       "      <th>coding of Complications</th>\n",
       "      <th>Outcome</th>\n",
       "      <th>CODE SMOKER 1 yes - 2 NO</th>\n",
       "      <th>History of Stroke-1 yes - 2 No</th>\n",
       "    </tr>\n",
       "  </thead>\n",
       "  <tbody>\n",
       "    <tr>\n",
       "      <th>99</th>\n",
       "      <td>NaN</td>\n",
       "      <td>NaN</td>\n",
       "      <td>NaN</td>\n",
       "      <td>NaN</td>\n",
       "      <td>NaN</td>\n",
       "      <td>NaN</td>\n",
       "      <td>NaN</td>\n",
       "      <td>NaN</td>\n",
       "      <td>NaN</td>\n",
       "      <td>NaN</td>\n",
       "      <td>...</td>\n",
       "      <td>NaN</td>\n",
       "      <td>NaN</td>\n",
       "      <td>NaN</td>\n",
       "      <td>NaN</td>\n",
       "      <td>NaN</td>\n",
       "      <td>NaN</td>\n",
       "      <td>NaN</td>\n",
       "      <td>NaN</td>\n",
       "      <td>NaN</td>\n",
       "      <td>NaN</td>\n",
       "    </tr>\n",
       "    <tr>\n",
       "      <th>147</th>\n",
       "      <td>NaN</td>\n",
       "      <td>NaN</td>\n",
       "      <td>NaN</td>\n",
       "      <td>NaN</td>\n",
       "      <td>NaN</td>\n",
       "      <td>NaN</td>\n",
       "      <td>NaN</td>\n",
       "      <td>NaN</td>\n",
       "      <td>NaN</td>\n",
       "      <td>NaN</td>\n",
       "      <td>...</td>\n",
       "      <td>NaN</td>\n",
       "      <td>NaN</td>\n",
       "      <td>NaN</td>\n",
       "      <td>NaN</td>\n",
       "      <td>NaN</td>\n",
       "      <td>NaN</td>\n",
       "      <td>NaN</td>\n",
       "      <td>NaN</td>\n",
       "      <td>NaN</td>\n",
       "      <td>NaN</td>\n",
       "    </tr>\n",
       "  </tbody>\n",
       "</table>\n",
       "<p>2 rows × 22 columns</p>\n",
       "</div>"
      ],
      "text/plain": [
       "     Age  Gender  Door to needle time (min )  Door-door time  \\\n",
       "99   NaN     NaN                         NaN             NaN   \n",
       "147  NaN     NaN                         NaN             NaN   \n",
       "\n",
       "     CODE of Neurological Deficit   CODING WINDOW   MRS  \\\n",
       "99                             NaN             NaN  NaN   \n",
       "147                            NaN             NaN  NaN   \n",
       "\n",
       "     Hyper tension 1-yes              2- No  DM  \\\n",
       "99                                      NaN NaN   \n",
       "147                                     NaN NaN   \n",
       "\n",
       "    Blood Pressure at the time of admission  ...  LARGE Vs SMALL ARTERY  HAGE  \\\n",
       "99                                      NaN  ...                    NaN   NaN   \n",
       "147                                     NaN  ...                    NaN   NaN   \n",
       "\n",
       "      Dose of Actilyse/ Weight(mg)  NIHSS on admission.1  NIHSS after 1 hr  \\\n",
       "99                             NaN                   NaN               NaN   \n",
       "147                            NaN                   NaN               NaN   \n",
       "\n",
       "       NIHSS after 6 hrs  coding of Complications  Outcome  \\\n",
       "99                   NaN                      NaN      NaN   \n",
       "147                  NaN                      NaN      NaN   \n",
       "\n",
       "     CODE SMOKER 1 yes - 2 NO History of Stroke-1 yes - 2 No  \n",
       "99                        NaN                            NaN  \n",
       "147                       NaN                            NaN  \n",
       "\n",
       "[2 rows x 22 columns]"
      ]
     },
     "execution_count": 16,
     "metadata": {},
     "output_type": "execute_result"
    }
   ],
   "source": [
    "s_data[s_data[\"Age\"].isnull()]"
   ]
  },
  {
   "cell_type": "code",
   "execution_count": 17,
   "metadata": {},
   "outputs": [
    {
     "name": "stderr",
     "output_type": "stream",
     "text": [
      "C:\\Users\\Varun Chandra\\.conda\\envs\\tf_gpu36\\lib\\site-packages\\ipykernel_launcher.py:1: SettingWithCopyWarning: \n",
      "A value is trying to be set on a copy of a slice from a DataFrame\n",
      "\n",
      "See the caveats in the documentation: http://pandas.pydata.org/pandas-docs/stable/user_guide/indexing.html#returning-a-view-versus-a-copy\n",
      "  \"\"\"Entry point for launching an IPython kernel.\n"
     ]
    }
   ],
   "source": [
    "s_data.dropna(axis = 0, subset = ['Age'], inplace = True) # dropping the rows with Age = NaN"
   ]
  },
  {
   "cell_type": "code",
   "execution_count": 18,
   "metadata": {},
   "outputs": [
    {
     "data": {
      "text/plain": [
       "Age                                               0\n",
       "Gender                                            1\n",
       "Door to needle time (min )                        0\n",
       "Door-door time                                    0\n",
       "CODE of Neurological Deficit                      0\n",
       "CODING WINDOW                                     0\n",
       "MRS                                               2\n",
       "Hyper tension 1-yes              2- No            0\n",
       "DM                                                0\n",
       "Blood Pressure at the time of admission           0\n",
       "Blood Sugar at the time of admission ( mg/dl)     0\n",
       "CODING ANT. POST. COMBINATION                     0\n",
       "LARGE Vs SMALL ARTERY                            86\n",
       "HAGE                                              0\n",
       " Dose of Actilyse/ Weight(mg)                     0\n",
       "NIHSS on admission.1                              0\n",
       "NIHSS after 1 hr                                  7\n",
       "  NIHSS after 6 hrs                               5\n",
       "coding of Complications                           0\n",
       "Outcome                                          23\n",
       "CODE SMOKER 1 yes - 2 NO                          1\n",
       "History of Stroke-1 yes - 2 No                    0\n",
       "dtype: int64"
      ]
     },
     "execution_count": 18,
     "metadata": {},
     "output_type": "execute_result"
    }
   ],
   "source": [
    "s_data.isnull().sum() # Number of missing values in each case"
   ]
  },
  {
   "cell_type": "markdown",
   "metadata": {},
   "source": [
    "#### Handling Gender"
   ]
  },
  {
   "cell_type": "code",
   "execution_count": 19,
   "metadata": {},
   "outputs": [
    {
     "data": {
      "text/plain": [
       "1"
      ]
     },
     "execution_count": 19,
     "metadata": {},
     "output_type": "execute_result"
    }
   ],
   "source": [
    "s_data['Gender'].isnull().sum()"
   ]
  },
  {
   "cell_type": "code",
   "execution_count": 20,
   "metadata": {},
   "outputs": [
    {
     "data": {
      "text/plain": [
       "Age                                              0\n",
       "Gender                                           1\n",
       "Door to needle time (min )                       0\n",
       "Door-door time                                   0\n",
       "CODE of Neurological Deficit                     0\n",
       "CODING WINDOW                                    0\n",
       "MRS                                              0\n",
       "Hyper tension 1-yes              2- No           0\n",
       "DM                                               0\n",
       "Blood Pressure at the time of admission          0\n",
       "Blood Sugar at the time of admission ( mg/dl)    0\n",
       "CODING ANT. POST. COMBINATION                    0\n",
       "LARGE Vs SMALL ARTERY                            1\n",
       "HAGE                                             0\n",
       " Dose of Actilyse/ Weight(mg)                    0\n",
       "NIHSS on admission.1                             0\n",
       "NIHSS after 1 hr                                 0\n",
       "  NIHSS after 6 hrs                              0\n",
       "coding of Complications                          0\n",
       "Outcome                                          0\n",
       "CODE SMOKER 1 yes - 2 NO                         0\n",
       "History of Stroke-1 yes - 2 No                   0\n",
       "dtype: int64"
      ]
     },
     "execution_count": 20,
     "metadata": {},
     "output_type": "execute_result"
    }
   ],
   "source": [
    "s_data[s_data['Gender'].isnull()].isnull().sum(axis = 0)"
   ]
  },
  {
   "cell_type": "code",
   "execution_count": 21,
   "metadata": {},
   "outputs": [],
   "source": [
    "mode = s_data['Gender'].mode()[0] # mode returns a series"
   ]
  },
  {
   "cell_type": "code",
   "execution_count": 22,
   "metadata": {},
   "outputs": [
    {
     "name": "stderr",
     "output_type": "stream",
     "text": [
      "C:\\Users\\Varun Chandra\\.conda\\envs\\tf_gpu36\\lib\\site-packages\\pandas\\core\\generic.py:6786: SettingWithCopyWarning: \n",
      "A value is trying to be set on a copy of a slice from a DataFrame\n",
      "\n",
      "See the caveats in the documentation: http://pandas.pydata.org/pandas-docs/stable/user_guide/indexing.html#returning-a-view-versus-a-copy\n",
      "  self._update_inplace(new_data)\n"
     ]
    }
   ],
   "source": [
    "# 1.0 is a male and it is the mode of Gender\n",
    "s_data['Gender'].replace(np.nan, mode, inplace = True)"
   ]
  },
  {
   "cell_type": "code",
   "execution_count": 23,
   "metadata": {},
   "outputs": [
    {
     "data": {
      "text/plain": [
       "Age                                               0\n",
       "Gender                                            0\n",
       "Door to needle time (min )                        0\n",
       "Door-door time                                    0\n",
       "CODE of Neurological Deficit                      0\n",
       "CODING WINDOW                                     0\n",
       "MRS                                               2\n",
       "Hyper tension 1-yes              2- No            0\n",
       "DM                                                0\n",
       "Blood Pressure at the time of admission           0\n",
       "Blood Sugar at the time of admission ( mg/dl)     0\n",
       "CODING ANT. POST. COMBINATION                     0\n",
       "LARGE Vs SMALL ARTERY                            86\n",
       "HAGE                                              0\n",
       " Dose of Actilyse/ Weight(mg)                     0\n",
       "NIHSS on admission.1                              0\n",
       "NIHSS after 1 hr                                  7\n",
       "  NIHSS after 6 hrs                               5\n",
       "coding of Complications                           0\n",
       "Outcome                                          23\n",
       "CODE SMOKER 1 yes - 2 NO                          1\n",
       "History of Stroke-1 yes - 2 No                    0\n",
       "dtype: int64"
      ]
     },
     "execution_count": 23,
     "metadata": {},
     "output_type": "execute_result"
    }
   ],
   "source": [
    "s_data.isnull().sum()"
   ]
  },
  {
   "cell_type": "markdown",
   "metadata": {},
   "source": [
    "#### Handling MRS"
   ]
  },
  {
   "cell_type": "code",
   "execution_count": 24,
   "metadata": {},
   "outputs": [
    {
     "data": {
      "text/plain": [
       "2"
      ]
     },
     "execution_count": 24,
     "metadata": {},
     "output_type": "execute_result"
    }
   ],
   "source": [
    "s_data['MRS'].isnull().sum() # number of rows missing values in MRS"
   ]
  },
  {
   "cell_type": "code",
   "execution_count": 25,
   "metadata": {},
   "outputs": [
    {
     "data": {
      "text/html": [
       "<div>\n",
       "<style scoped>\n",
       "    .dataframe tbody tr th:only-of-type {\n",
       "        vertical-align: middle;\n",
       "    }\n",
       "\n",
       "    .dataframe tbody tr th {\n",
       "        vertical-align: top;\n",
       "    }\n",
       "\n",
       "    .dataframe thead th {\n",
       "        text-align: right;\n",
       "    }\n",
       "</style>\n",
       "<table border=\"1\" class=\"dataframe\">\n",
       "  <thead>\n",
       "    <tr style=\"text-align: right;\">\n",
       "      <th></th>\n",
       "      <th>Age</th>\n",
       "      <th>Gender</th>\n",
       "      <th>Door to needle time (min )</th>\n",
       "      <th>Door-door time</th>\n",
       "      <th>CODE of Neurological Deficit</th>\n",
       "      <th>CODING WINDOW</th>\n",
       "      <th>MRS</th>\n",
       "      <th>Hyper tension 1-yes              2- No</th>\n",
       "      <th>DM</th>\n",
       "      <th>Blood Pressure at the time of admission</th>\n",
       "      <th>...</th>\n",
       "      <th>LARGE Vs SMALL ARTERY</th>\n",
       "      <th>HAGE</th>\n",
       "      <th>Dose of Actilyse/ Weight(mg)</th>\n",
       "      <th>NIHSS on admission.1</th>\n",
       "      <th>NIHSS after 1 hr</th>\n",
       "      <th>NIHSS after 6 hrs</th>\n",
       "      <th>coding of Complications</th>\n",
       "      <th>Outcome</th>\n",
       "      <th>CODE SMOKER 1 yes - 2 NO</th>\n",
       "      <th>History of Stroke-1 yes - 2 No</th>\n",
       "    </tr>\n",
       "  </thead>\n",
       "  <tbody>\n",
       "    <tr>\n",
       "      <th>23</th>\n",
       "      <td>52.0</td>\n",
       "      <td>1.0</td>\n",
       "      <td>15.0</td>\n",
       "      <td>195.0</td>\n",
       "      <td>1.0</td>\n",
       "      <td>1.0</td>\n",
       "      <td>NaN</td>\n",
       "      <td>1.0</td>\n",
       "      <td>2.0</td>\n",
       "      <td>190/90</td>\n",
       "      <td>...</td>\n",
       "      <td>1.0</td>\n",
       "      <td>1.0</td>\n",
       "      <td>50.0</td>\n",
       "      <td>4.0</td>\n",
       "      <td>4.0</td>\n",
       "      <td>2.0</td>\n",
       "      <td>1.0</td>\n",
       "      <td>Improved</td>\n",
       "      <td>2.0</td>\n",
       "      <td>2.0</td>\n",
       "    </tr>\n",
       "    <tr>\n",
       "      <th>77</th>\n",
       "      <td>62.0</td>\n",
       "      <td>1.0</td>\n",
       "      <td>30.0</td>\n",
       "      <td>195.0</td>\n",
       "      <td>2.0</td>\n",
       "      <td>1.0</td>\n",
       "      <td>NaN</td>\n",
       "      <td>2.0</td>\n",
       "      <td>2.0</td>\n",
       "      <td>140/70</td>\n",
       "      <td>...</td>\n",
       "      <td>1.0</td>\n",
       "      <td>1.0</td>\n",
       "      <td>45.0</td>\n",
       "      <td>5.0</td>\n",
       "      <td>4.0</td>\n",
       "      <td>4.0</td>\n",
       "      <td>1.0</td>\n",
       "      <td>IMPROVED</td>\n",
       "      <td>1.0</td>\n",
       "      <td>1.0</td>\n",
       "    </tr>\n",
       "  </tbody>\n",
       "</table>\n",
       "<p>2 rows × 22 columns</p>\n",
       "</div>"
      ],
      "text/plain": [
       "     Age  Gender  Door to needle time (min )  Door-door time  \\\n",
       "23  52.0     1.0                        15.0           195.0   \n",
       "77  62.0     1.0                        30.0           195.0   \n",
       "\n",
       "    CODE of Neurological Deficit   CODING WINDOW   MRS  \\\n",
       "23                            1.0             1.0  NaN   \n",
       "77                            2.0             1.0  NaN   \n",
       "\n",
       "    Hyper tension 1-yes              2- No   DM  \\\n",
       "23                                     1.0  2.0   \n",
       "77                                     2.0  2.0   \n",
       "\n",
       "   Blood Pressure at the time of admission  ...  LARGE Vs SMALL ARTERY  HAGE  \\\n",
       "23                                  190/90  ...                    1.0   1.0   \n",
       "77                                  140/70  ...                    1.0   1.0   \n",
       "\n",
       "     Dose of Actilyse/ Weight(mg)  NIHSS on admission.1  NIHSS after 1 hr  \\\n",
       "23                           50.0                   4.0               4.0   \n",
       "77                           45.0                   5.0               4.0   \n",
       "\n",
       "      NIHSS after 6 hrs  coding of Complications   Outcome  \\\n",
       "23                  2.0                      1.0  Improved   \n",
       "77                  4.0                      1.0  IMPROVED   \n",
       "\n",
       "    CODE SMOKER 1 yes - 2 NO History of Stroke-1 yes - 2 No  \n",
       "23                       2.0                            2.0  \n",
       "77                       1.0                            1.0  \n",
       "\n",
       "[2 rows x 22 columns]"
      ]
     },
     "execution_count": 25,
     "metadata": {},
     "output_type": "execute_result"
    }
   ],
   "source": [
    "s_data[s_data['MRS'].isnull()]"
   ]
  },
  {
   "cell_type": "code",
   "execution_count": 26,
   "metadata": {},
   "outputs": [
    {
     "data": {
      "text/plain": [
       "Age                                              0\n",
       "Gender                                           0\n",
       "Door to needle time (min )                       0\n",
       "Door-door time                                   0\n",
       "CODE of Neurological Deficit                     0\n",
       "CODING WINDOW                                    0\n",
       "MRS                                              2\n",
       "Hyper tension 1-yes              2- No           0\n",
       "DM                                               0\n",
       "Blood Pressure at the time of admission          0\n",
       "Blood Sugar at the time of admission ( mg/dl)    0\n",
       "CODING ANT. POST. COMBINATION                    0\n",
       "LARGE Vs SMALL ARTERY                            0\n",
       "HAGE                                             0\n",
       " Dose of Actilyse/ Weight(mg)                    0\n",
       "NIHSS on admission.1                             0\n",
       "NIHSS after 1 hr                                 0\n",
       "  NIHSS after 6 hrs                              0\n",
       "coding of Complications                          0\n",
       "Outcome                                          0\n",
       "CODE SMOKER 1 yes - 2 NO                         0\n",
       "History of Stroke-1 yes - 2 No                   0\n",
       "dtype: int64"
      ]
     },
     "execution_count": 26,
     "metadata": {},
     "output_type": "execute_result"
    }
   ],
   "source": [
    "s_data[s_data['MRS'].isnull()].isnull().sum()"
   ]
  },
  {
   "cell_type": "code",
   "execution_count": 27,
   "metadata": {},
   "outputs": [
    {
     "data": {
      "text/plain": [
       "4.0    107\n",
       "3.0     27\n",
       "2.0     16\n",
       "5.0     16\n",
       "1.0     14\n",
       "0.0      3\n",
       "NaN      2\n",
       "Name: MRS, dtype: int64"
      ]
     },
     "execution_count": 27,
     "metadata": {},
     "output_type": "execute_result"
    }
   ],
   "source": [
    "s_data['MRS'].value_counts(dropna = False)"
   ]
  },
  {
   "cell_type": "code",
   "execution_count": 28,
   "metadata": {},
   "outputs": [],
   "source": [
    "mode = s_data['MRS'].mode()[0]"
   ]
  },
  {
   "cell_type": "code",
   "execution_count": 29,
   "metadata": {},
   "outputs": [],
   "source": [
    "s_data['MRS'].replace(np.nan, mode, inplace = True)"
   ]
  },
  {
   "cell_type": "code",
   "execution_count": 30,
   "metadata": {},
   "outputs": [
    {
     "data": {
      "text/plain": [
       "Age                                               0\n",
       "Gender                                            0\n",
       "Door to needle time (min )                        0\n",
       "Door-door time                                    0\n",
       "CODE of Neurological Deficit                      0\n",
       "CODING WINDOW                                     0\n",
       "MRS                                               0\n",
       "Hyper tension 1-yes              2- No            0\n",
       "DM                                                0\n",
       "Blood Pressure at the time of admission           0\n",
       "Blood Sugar at the time of admission ( mg/dl)     0\n",
       "CODING ANT. POST. COMBINATION                     0\n",
       "LARGE Vs SMALL ARTERY                            86\n",
       "HAGE                                              0\n",
       " Dose of Actilyse/ Weight(mg)                     0\n",
       "NIHSS on admission.1                              0\n",
       "NIHSS after 1 hr                                  7\n",
       "  NIHSS after 6 hrs                               5\n",
       "coding of Complications                           0\n",
       "Outcome                                          23\n",
       "CODE SMOKER 1 yes - 2 NO                          1\n",
       "History of Stroke-1 yes - 2 No                    0\n",
       "dtype: int64"
      ]
     },
     "execution_count": 30,
     "metadata": {},
     "output_type": "execute_result"
    }
   ],
   "source": [
    "s_data.isnull().sum()"
   ]
  },
  {
   "cell_type": "markdown",
   "metadata": {},
   "source": [
    "#### Handling CODE SMOKER 1 yes - 2 NO"
   ]
  },
  {
   "cell_type": "code",
   "execution_count": 31,
   "metadata": {},
   "outputs": [
    {
     "data": {
      "text/plain": [
       "1"
      ]
     },
     "execution_count": 31,
     "metadata": {},
     "output_type": "execute_result"
    }
   ],
   "source": [
    "s_data['CODE SMOKER 1 yes - 2 NO'].isnull().sum()"
   ]
  },
  {
   "cell_type": "code",
   "execution_count": 32,
   "metadata": {},
   "outputs": [
    {
     "data": {
      "text/html": [
       "<div>\n",
       "<style scoped>\n",
       "    .dataframe tbody tr th:only-of-type {\n",
       "        vertical-align: middle;\n",
       "    }\n",
       "\n",
       "    .dataframe tbody tr th {\n",
       "        vertical-align: top;\n",
       "    }\n",
       "\n",
       "    .dataframe thead th {\n",
       "        text-align: right;\n",
       "    }\n",
       "</style>\n",
       "<table border=\"1\" class=\"dataframe\">\n",
       "  <thead>\n",
       "    <tr style=\"text-align: right;\">\n",
       "      <th></th>\n",
       "      <th>Age</th>\n",
       "      <th>Gender</th>\n",
       "      <th>Door to needle time (min )</th>\n",
       "      <th>Door-door time</th>\n",
       "      <th>CODE of Neurological Deficit</th>\n",
       "      <th>CODING WINDOW</th>\n",
       "      <th>MRS</th>\n",
       "      <th>Hyper tension 1-yes              2- No</th>\n",
       "      <th>DM</th>\n",
       "      <th>Blood Pressure at the time of admission</th>\n",
       "      <th>...</th>\n",
       "      <th>LARGE Vs SMALL ARTERY</th>\n",
       "      <th>HAGE</th>\n",
       "      <th>Dose of Actilyse/ Weight(mg)</th>\n",
       "      <th>NIHSS on admission.1</th>\n",
       "      <th>NIHSS after 1 hr</th>\n",
       "      <th>NIHSS after 6 hrs</th>\n",
       "      <th>coding of Complications</th>\n",
       "      <th>Outcome</th>\n",
       "      <th>CODE SMOKER 1 yes - 2 NO</th>\n",
       "      <th>History of Stroke-1 yes - 2 No</th>\n",
       "    </tr>\n",
       "  </thead>\n",
       "  <tbody>\n",
       "    <tr>\n",
       "      <th>95</th>\n",
       "      <td>60.0</td>\n",
       "      <td>1.0</td>\n",
       "      <td>30.0</td>\n",
       "      <td>240.0</td>\n",
       "      <td>2.0</td>\n",
       "      <td>1.0</td>\n",
       "      <td>5.0</td>\n",
       "      <td>1.0</td>\n",
       "      <td>2.0</td>\n",
       "      <td>150/100</td>\n",
       "      <td>...</td>\n",
       "      <td>1.0</td>\n",
       "      <td>1.0</td>\n",
       "      <td>50.0</td>\n",
       "      <td>11.0</td>\n",
       "      <td>10.0</td>\n",
       "      <td>10.0</td>\n",
       "      <td>3.0</td>\n",
       "      <td>DEATH</td>\n",
       "      <td>NaN</td>\n",
       "      <td>2.0</td>\n",
       "    </tr>\n",
       "  </tbody>\n",
       "</table>\n",
       "<p>1 rows × 22 columns</p>\n",
       "</div>"
      ],
      "text/plain": [
       "     Age  Gender  Door to needle time (min )  Door-door time  \\\n",
       "95  60.0     1.0                        30.0           240.0   \n",
       "\n",
       "    CODE of Neurological Deficit   CODING WINDOW   MRS  \\\n",
       "95                            2.0             1.0  5.0   \n",
       "\n",
       "    Hyper tension 1-yes              2- No   DM  \\\n",
       "95                                     1.0  2.0   \n",
       "\n",
       "   Blood Pressure at the time of admission  ...  LARGE Vs SMALL ARTERY  HAGE  \\\n",
       "95                                 150/100  ...                    1.0   1.0   \n",
       "\n",
       "     Dose of Actilyse/ Weight(mg)  NIHSS on admission.1  NIHSS after 1 hr  \\\n",
       "95                           50.0                  11.0              10.0   \n",
       "\n",
       "      NIHSS after 6 hrs  coding of Complications  Outcome  \\\n",
       "95                 10.0                      3.0   DEATH    \n",
       "\n",
       "    CODE SMOKER 1 yes - 2 NO History of Stroke-1 yes - 2 No  \n",
       "95                       NaN                            2.0  \n",
       "\n",
       "[1 rows x 22 columns]"
      ]
     },
     "execution_count": 32,
     "metadata": {},
     "output_type": "execute_result"
    }
   ],
   "source": [
    "s_data[s_data['CODE SMOKER 1 yes - 2 NO'].isnull()]"
   ]
  },
  {
   "cell_type": "code",
   "execution_count": 33,
   "metadata": {},
   "outputs": [
    {
     "data": {
      "text/plain": [
       "Age                                              0\n",
       "Gender                                           0\n",
       "Door to needle time (min )                       0\n",
       "Door-door time                                   0\n",
       "CODE of Neurological Deficit                     0\n",
       "CODING WINDOW                                    0\n",
       "MRS                                              0\n",
       "Hyper tension 1-yes              2- No           0\n",
       "DM                                               0\n",
       "Blood Pressure at the time of admission          0\n",
       "Blood Sugar at the time of admission ( mg/dl)    0\n",
       "CODING ANT. POST. COMBINATION                    0\n",
       "LARGE Vs SMALL ARTERY                            0\n",
       "HAGE                                             0\n",
       " Dose of Actilyse/ Weight(mg)                    0\n",
       "NIHSS on admission.1                             0\n",
       "NIHSS after 1 hr                                 0\n",
       "  NIHSS after 6 hrs                              0\n",
       "coding of Complications                          0\n",
       "Outcome                                          0\n",
       "CODE SMOKER 1 yes - 2 NO                         1\n",
       "History of Stroke-1 yes - 2 No                   0\n",
       "dtype: int64"
      ]
     },
     "execution_count": 33,
     "metadata": {},
     "output_type": "execute_result"
    }
   ],
   "source": [
    "s_data[s_data['CODE SMOKER 1 yes - 2 NO'].isnull()].isnull().sum()"
   ]
  },
  {
   "cell_type": "code",
   "execution_count": 34,
   "metadata": {},
   "outputs": [],
   "source": [
    "mode = s_data['CODE SMOKER 1 yes - 2 NO'].mode()[0]"
   ]
  },
  {
   "cell_type": "code",
   "execution_count": 35,
   "metadata": {},
   "outputs": [],
   "source": [
    "s_data['CODE SMOKER 1 yes - 2 NO'].replace(np.nan, mode, inplace = True)"
   ]
  },
  {
   "cell_type": "code",
   "execution_count": 36,
   "metadata": {},
   "outputs": [
    {
     "data": {
      "text/plain": [
       "Age                                               0\n",
       "Gender                                            0\n",
       "Door to needle time (min )                        0\n",
       "Door-door time                                    0\n",
       "CODE of Neurological Deficit                      0\n",
       "CODING WINDOW                                     0\n",
       "MRS                                               0\n",
       "Hyper tension 1-yes              2- No            0\n",
       "DM                                                0\n",
       "Blood Pressure at the time of admission           0\n",
       "Blood Sugar at the time of admission ( mg/dl)     0\n",
       "CODING ANT. POST. COMBINATION                     0\n",
       "LARGE Vs SMALL ARTERY                            86\n",
       "HAGE                                              0\n",
       " Dose of Actilyse/ Weight(mg)                     0\n",
       "NIHSS on admission.1                              0\n",
       "NIHSS after 1 hr                                  7\n",
       "  NIHSS after 6 hrs                               5\n",
       "coding of Complications                           0\n",
       "Outcome                                          23\n",
       "CODE SMOKER 1 yes - 2 NO                          0\n",
       "History of Stroke-1 yes - 2 No                    0\n",
       "dtype: int64"
      ]
     },
     "execution_count": 36,
     "metadata": {},
     "output_type": "execute_result"
    }
   ],
   "source": [
    "s_data.isnull().sum()"
   ]
  },
  {
   "cell_type": "markdown",
   "metadata": {},
   "source": [
    "#### Resetting the indices after dropping the rows"
   ]
  },
  {
   "cell_type": "code",
   "execution_count": 37,
   "metadata": {},
   "outputs": [],
   "source": [
    "s_data.reset_index(drop = True, inplace = True)"
   ]
  },
  {
   "cell_type": "markdown",
   "metadata": {},
   "source": [
    "## Changing Datatypes"
   ]
  },
  {
   "cell_type": "code",
   "execution_count": 38,
   "metadata": {},
   "outputs": [
    {
     "name": "stdout",
     "output_type": "stream",
     "text": [
      "<class 'pandas.core.frame.DataFrame'>\n",
      "RangeIndex: 185 entries, 0 to 184\n",
      "Data columns (total 22 columns):\n",
      "Age                                              185 non-null float64\n",
      "Gender                                           185 non-null float64\n",
      "Door to needle time (min )                       185 non-null float64\n",
      "Door-door time                                   185 non-null float64\n",
      "CODE of Neurological Deficit                     185 non-null float64\n",
      "CODING WINDOW                                    185 non-null float64\n",
      "MRS                                              185 non-null float64\n",
      "Hyper tension 1-yes              2- No           185 non-null float64\n",
      "DM                                               185 non-null float64\n",
      "Blood Pressure at the time of admission          185 non-null object\n",
      "Blood Sugar at the time of admission ( mg/dl)    185 non-null float64\n",
      "CODING ANT. POST. COMBINATION                    185 non-null float64\n",
      "LARGE Vs SMALL ARTERY                            99 non-null float64\n",
      "HAGE                                             185 non-null float64\n",
      " Dose of Actilyse/ Weight(mg)                    185 non-null float64\n",
      "NIHSS on admission.1                             185 non-null float64\n",
      "NIHSS after 1 hr                                 178 non-null float64\n",
      "  NIHSS after 6 hrs                              180 non-null float64\n",
      "coding of Complications                          185 non-null float64\n",
      "Outcome                                          162 non-null object\n",
      "CODE SMOKER 1 yes - 2 NO                         185 non-null float64\n",
      "History of Stroke-1 yes - 2 No                   185 non-null float64\n",
      "dtypes: float64(20), object(2)\n",
      "memory usage: 31.9+ KB\n"
     ]
    }
   ],
   "source": [
    "s_data.info()"
   ]
  },
  {
   "cell_type": "code",
   "execution_count": 39,
   "metadata": {},
   "outputs": [
    {
     "data": {
      "text/html": [
       "<div>\n",
       "<style scoped>\n",
       "    .dataframe tbody tr th:only-of-type {\n",
       "        vertical-align: middle;\n",
       "    }\n",
       "\n",
       "    .dataframe tbody tr th {\n",
       "        vertical-align: top;\n",
       "    }\n",
       "\n",
       "    .dataframe thead th {\n",
       "        text-align: right;\n",
       "    }\n",
       "</style>\n",
       "<table border=\"1\" class=\"dataframe\">\n",
       "  <thead>\n",
       "    <tr style=\"text-align: right;\">\n",
       "      <th></th>\n",
       "      <th>index</th>\n",
       "      <th>0</th>\n",
       "    </tr>\n",
       "  </thead>\n",
       "  <tbody>\n",
       "    <tr>\n",
       "      <th>0</th>\n",
       "      <td>4</td>\n",
       "      <td>Age</td>\n",
       "    </tr>\n",
       "    <tr>\n",
       "      <th>1</th>\n",
       "      <td>7</td>\n",
       "      <td>Gender</td>\n",
       "    </tr>\n",
       "    <tr>\n",
       "      <th>2</th>\n",
       "      <td>10</td>\n",
       "      <td>Door to needle time (min )</td>\n",
       "    </tr>\n",
       "    <tr>\n",
       "      <th>3</th>\n",
       "      <td>11</td>\n",
       "      <td>Door-door time</td>\n",
       "    </tr>\n",
       "    <tr>\n",
       "      <th>4</th>\n",
       "      <td>14</td>\n",
       "      <td>CODE of Neurological Deficit</td>\n",
       "    </tr>\n",
       "    <tr>\n",
       "      <th>5</th>\n",
       "      <td>16</td>\n",
       "      <td>CODING WINDOW</td>\n",
       "    </tr>\n",
       "    <tr>\n",
       "      <th>6</th>\n",
       "      <td>19</td>\n",
       "      <td>MRS</td>\n",
       "    </tr>\n",
       "    <tr>\n",
       "      <th>7</th>\n",
       "      <td>20</td>\n",
       "      <td>Hyper tension 1-yes              2- No</td>\n",
       "    </tr>\n",
       "    <tr>\n",
       "      <th>8</th>\n",
       "      <td>21</td>\n",
       "      <td>DM</td>\n",
       "    </tr>\n",
       "    <tr>\n",
       "      <th>9</th>\n",
       "      <td>22</td>\n",
       "      <td>Blood Pressure at the time of admission</td>\n",
       "    </tr>\n",
       "    <tr>\n",
       "      <th>10</th>\n",
       "      <td>24</td>\n",
       "      <td>Blood Sugar at the time of admission ( mg/dl)</td>\n",
       "    </tr>\n",
       "    <tr>\n",
       "      <th>11</th>\n",
       "      <td>27</td>\n",
       "      <td>CODING ANT. POST. COMBINATION</td>\n",
       "    </tr>\n",
       "    <tr>\n",
       "      <th>12</th>\n",
       "      <td>28</td>\n",
       "      <td>LARGE Vs SMALL ARTERY</td>\n",
       "    </tr>\n",
       "    <tr>\n",
       "      <th>13</th>\n",
       "      <td>30</td>\n",
       "      <td>HAGE</td>\n",
       "    </tr>\n",
       "    <tr>\n",
       "      <th>14</th>\n",
       "      <td>31</td>\n",
       "      <td>Dose of Actilyse/ Weight(mg)</td>\n",
       "    </tr>\n",
       "    <tr>\n",
       "      <th>15</th>\n",
       "      <td>33</td>\n",
       "      <td>NIHSS on admission.1</td>\n",
       "    </tr>\n",
       "    <tr>\n",
       "      <th>16</th>\n",
       "      <td>34</td>\n",
       "      <td>NIHSS after 1 hr</td>\n",
       "    </tr>\n",
       "    <tr>\n",
       "      <th>17</th>\n",
       "      <td>35</td>\n",
       "      <td>NIHSS after 6 hrs</td>\n",
       "    </tr>\n",
       "    <tr>\n",
       "      <th>18</th>\n",
       "      <td>38</td>\n",
       "      <td>coding of Complications</td>\n",
       "    </tr>\n",
       "    <tr>\n",
       "      <th>19</th>\n",
       "      <td>39</td>\n",
       "      <td>Outcome</td>\n",
       "    </tr>\n",
       "    <tr>\n",
       "      <th>20</th>\n",
       "      <td>46</td>\n",
       "      <td>CODE SMOKER 1 yes - 2 NO</td>\n",
       "    </tr>\n",
       "    <tr>\n",
       "      <th>21</th>\n",
       "      <td>47</td>\n",
       "      <td>History of Stroke-1 yes - 2 No</td>\n",
       "    </tr>\n",
       "  </tbody>\n",
       "</table>\n",
       "</div>"
      ],
      "text/plain": [
       "    index                                              0\n",
       "0       4                                            Age\n",
       "1       7                                         Gender\n",
       "2      10                     Door to needle time (min )\n",
       "3      11                                 Door-door time\n",
       "4      14                  CODE of Neurological Deficit \n",
       "5      16                                 CODING WINDOW \n",
       "6      19                                            MRS\n",
       "7      20         Hyper tension 1-yes              2- No\n",
       "8      21                                             DM\n",
       "9      22        Blood Pressure at the time of admission\n",
       "10     24  Blood Sugar at the time of admission ( mg/dl)\n",
       "11     27                  CODING ANT. POST. COMBINATION\n",
       "12     28                          LARGE Vs SMALL ARTERY\n",
       "13     30                                           HAGE\n",
       "14     31                   Dose of Actilyse/ Weight(mg)\n",
       "15     33                           NIHSS on admission.1\n",
       "16     34                               NIHSS after 1 hr\n",
       "17     35                              NIHSS after 6 hrs\n",
       "18     38                        coding of Complications\n",
       "19     39                                        Outcome\n",
       "20     46                       CODE SMOKER 1 yes - 2 NO\n",
       "21     47                 History of Stroke-1 yes - 2 No"
      ]
     },
     "execution_count": 39,
     "metadata": {},
     "output_type": "execute_result"
    }
   ],
   "source": [
    "s_cols.reset_index()"
   ]
  },
  {
   "cell_type": "markdown",
   "metadata": {},
   "source": [
    "#### Changing the datatype of Age"
   ]
  },
  {
   "cell_type": "code",
   "execution_count": 40,
   "metadata": {},
   "outputs": [
    {
     "name": "stderr",
     "output_type": "stream",
     "text": [
      "C:\\Users\\Varun Chandra\\.conda\\envs\\tf_gpu36\\lib\\site-packages\\ipykernel_launcher.py:1: SettingWithCopyWarning: \n",
      "A value is trying to be set on a copy of a slice from a DataFrame.\n",
      "Try using .loc[row_indexer,col_indexer] = value instead\n",
      "\n",
      "See the caveats in the documentation: http://pandas.pydata.org/pandas-docs/stable/user_guide/indexing.html#returning-a-view-versus-a-copy\n",
      "  \"\"\"Entry point for launching an IPython kernel.\n"
     ]
    }
   ],
   "source": [
    "s_data['Age'] = s_data['Age'].astype('int64')"
   ]
  },
  {
   "cell_type": "code",
   "execution_count": 41,
   "metadata": {},
   "outputs": [
    {
     "data": {
      "text/plain": [
       "dtype('int64')"
      ]
     },
     "execution_count": 41,
     "metadata": {},
     "output_type": "execute_result"
    }
   ],
   "source": [
    "s_data['Age'].dtype"
   ]
  },
  {
   "cell_type": "code",
   "execution_count": 42,
   "metadata": {},
   "outputs": [
    {
     "data": {
      "text/plain": [
       "0      65\n",
       "1      38\n",
       "2      45\n",
       "3      50\n",
       "4      45\n",
       "       ..\n",
       "180    75\n",
       "181    26\n",
       "182    55\n",
       "183    55\n",
       "184    50\n",
       "Name: Age, Length: 185, dtype: int64"
      ]
     },
     "execution_count": 42,
     "metadata": {},
     "output_type": "execute_result"
    }
   ],
   "source": [
    "s_data['Age']"
   ]
  },
  {
   "cell_type": "markdown",
   "metadata": {},
   "source": [
    "#### Gender"
   ]
  },
  {
   "cell_type": "code",
   "execution_count": 43,
   "metadata": {},
   "outputs": [
    {
     "data": {
      "text/plain": [
       "dtype('float64')"
      ]
     },
     "execution_count": 43,
     "metadata": {},
     "output_type": "execute_result"
    }
   ],
   "source": [
    "s_data[\"Gender\"].dtype"
   ]
  },
  {
   "cell_type": "code",
   "execution_count": 44,
   "metadata": {},
   "outputs": [
    {
     "name": "stderr",
     "output_type": "stream",
     "text": [
      "C:\\Users\\Varun Chandra\\.conda\\envs\\tf_gpu36\\lib\\site-packages\\ipykernel_launcher.py:1: SettingWithCopyWarning: \n",
      "A value is trying to be set on a copy of a slice from a DataFrame.\n",
      "Try using .loc[row_indexer,col_indexer] = value instead\n",
      "\n",
      "See the caveats in the documentation: http://pandas.pydata.org/pandas-docs/stable/user_guide/indexing.html#returning-a-view-versus-a-copy\n",
      "  \"\"\"Entry point for launching an IPython kernel.\n"
     ]
    }
   ],
   "source": [
    "s_data['Gender'] = s_data[\"Gender\"].astype(\"int64\")"
   ]
  },
  {
   "cell_type": "code",
   "execution_count": 45,
   "metadata": {},
   "outputs": [],
   "source": [
    "s_data_backup1 = s_data"
   ]
  },
  {
   "cell_type": "markdown",
   "metadata": {},
   "source": [
    "#### Changing the datatype remaining columns"
   ]
  },
  {
   "cell_type": "code",
   "execution_count": 46,
   "metadata": {},
   "outputs": [
    {
     "name": "stderr",
     "output_type": "stream",
     "text": [
      "C:\\Users\\Varun Chandra\\.conda\\envs\\tf_gpu36\\lib\\site-packages\\pandas\\core\\indexing.py:494: SettingWithCopyWarning: \n",
      "A value is trying to be set on a copy of a slice from a DataFrame.\n",
      "Try using .loc[row_indexer,col_indexer] = value instead\n",
      "\n",
      "See the caveats in the documentation: http://pandas.pydata.org/pandas-docs/stable/user_guide/indexing.html#returning-a-view-versus-a-copy\n",
      "  self.obj[item] = s\n"
     ]
    }
   ],
   "source": [
    "s_data.iloc[:, 2: 9] = s_data.iloc[:, 2: 9].astype('int64')"
   ]
  },
  {
   "cell_type": "code",
   "execution_count": 57,
   "metadata": {},
   "outputs": [
    {
     "name": "stdout",
     "output_type": "stream",
     "text": [
      "<class 'pandas.core.frame.DataFrame'>\n",
      "RangeIndex: 185 entries, 0 to 184\n",
      "Data columns (total 22 columns):\n",
      "Age                                              185 non-null int64\n",
      "Gender                                           185 non-null int64\n",
      "Door to needle time (min )                       185 non-null int64\n",
      "Door-door time                                   185 non-null int64\n",
      "CODE of Neurological Deficit                     185 non-null int64\n",
      "CODING WINDOW                                    185 non-null int64\n",
      "MRS                                              185 non-null int64\n",
      "Hyper tension 1-yes              2- No           185 non-null int64\n",
      "DM                                               185 non-null int64\n",
      "Blood Pressure at the time of admission          185 non-null object\n",
      "Blood Sugar at the time of admission ( mg/dl)    185 non-null int64\n",
      "CODING ANT. POST. COMBINATION                    185 non-null int64\n",
      "LARGE Vs SMALL ARTERY                            99 non-null float64\n",
      "HAGE                                             185 non-null int64\n",
      " Dose of Actilyse/ Weight(mg)                    185 non-null int64\n",
      "NIHSS on admission.1                             185 non-null int64\n",
      "NIHSS after 1 hr                                 178 non-null float64\n",
      "  NIHSS after 6 hrs                              180 non-null float64\n",
      "coding of Complications                          185 non-null int64\n",
      "Outcome                                          162 non-null object\n",
      "CODE SMOKER 1 yes - 2 NO                         185 non-null int64\n",
      "History of Stroke-1 yes - 2 No                   185 non-null int64\n",
      "dtypes: float64(3), int64(17), object(2)\n",
      "memory usage: 31.9+ KB\n"
     ]
    }
   ],
   "source": [
    "s_data.info()"
   ]
  },
  {
   "cell_type": "code",
   "execution_count": 49,
   "metadata": {},
   "outputs": [],
   "source": [
    "s_data.iloc[:, 10: 12] = s_data.iloc[:, 10: 12].astype('int64')"
   ]
  },
  {
   "cell_type": "code",
   "execution_count": 51,
   "metadata": {},
   "outputs": [],
   "source": [
    "s_data.iloc[:, 13: 16] = s_data.iloc[:, 13: 16].astype('int64')"
   ]
  },
  {
   "cell_type": "code",
   "execution_count": 54,
   "metadata": {},
   "outputs": [],
   "source": [
    "s_data.iloc[:, 18] = s_data.iloc[:, 18].astype('int64')"
   ]
  },
  {
   "cell_type": "code",
   "execution_count": 56,
   "metadata": {},
   "outputs": [],
   "source": [
    "s_data.iloc[:, 20: 22] = s_data.iloc[:, 20: 22].astype('int64')"
   ]
  },
  {
   "cell_type": "markdown",
   "metadata": {},
   "source": [
    "## Dividing the Blood Pressure column into systolic blood pressure and diastolic blood pressure"
   ]
  },
  {
   "cell_type": "code",
   "execution_count": 59,
   "metadata": {},
   "outputs": [],
   "source": [
    "ser = s_data['Blood Pressure at the time of admission']"
   ]
  },
  {
   "cell_type": "code",
   "execution_count": 66,
   "metadata": {},
   "outputs": [],
   "source": [
    "systolic = []\n",
    "diastolic = []\n",
    "\n",
    "for i in range(len(ser)):\n",
    "    s, d = ser[i].split('/')\n",
    "    systolic.append(int(s))\n",
    "    diastolic.append(int(d))"
   ]
  },
  {
   "cell_type": "markdown",
   "metadata": {},
   "source": [
    "#### Inserting the columns Systolic BP and Diastolic BP"
   ]
  },
  {
   "cell_type": "code",
   "execution_count": 73,
   "metadata": {},
   "outputs": [
    {
     "name": "stderr",
     "output_type": "stream",
     "text": [
      "C:\\Users\\Varun Chandra\\.conda\\envs\\tf_gpu36\\lib\\site-packages\\ipykernel_launcher.py:1: SettingWithCopyWarning: \n",
      "A value is trying to be set on a copy of a slice from a DataFrame.\n",
      "Try using .loc[row_indexer,col_indexer] = value instead\n",
      "\n",
      "See the caveats in the documentation: http://pandas.pydata.org/pandas-docs/stable/user_guide/indexing.html#returning-a-view-versus-a-copy\n",
      "  \"\"\"Entry point for launching an IPython kernel.\n"
     ]
    }
   ],
   "source": [
    "s_data['Systolic BP'] = systolic"
   ]
  },
  {
   "cell_type": "code",
   "execution_count": 74,
   "metadata": {},
   "outputs": [
    {
     "name": "stderr",
     "output_type": "stream",
     "text": [
      "C:\\Users\\Varun Chandra\\.conda\\envs\\tf_gpu36\\lib\\site-packages\\ipykernel_launcher.py:1: SettingWithCopyWarning: \n",
      "A value is trying to be set on a copy of a slice from a DataFrame.\n",
      "Try using .loc[row_indexer,col_indexer] = value instead\n",
      "\n",
      "See the caveats in the documentation: http://pandas.pydata.org/pandas-docs/stable/user_guide/indexing.html#returning-a-view-versus-a-copy\n",
      "  \"\"\"Entry point for launching an IPython kernel.\n"
     ]
    }
   ],
   "source": [
    "s_data['Diastolic BP'] = diastolic"
   ]
  },
  {
   "cell_type": "code",
   "execution_count": 75,
   "metadata": {},
   "outputs": [
    {
     "name": "stdout",
     "output_type": "stream",
     "text": [
      "<class 'pandas.core.frame.DataFrame'>\n",
      "RangeIndex: 185 entries, 0 to 184\n",
      "Data columns (total 24 columns):\n",
      "Age                                              185 non-null int64\n",
      "Gender                                           185 non-null int64\n",
      "Door to needle time (min )                       185 non-null int64\n",
      "Door-door time                                   185 non-null int64\n",
      "CODE of Neurological Deficit                     185 non-null int64\n",
      "CODING WINDOW                                    185 non-null int64\n",
      "MRS                                              185 non-null int64\n",
      "Hyper tension 1-yes              2- No           185 non-null int64\n",
      "DM                                               185 non-null int64\n",
      "Blood Pressure at the time of admission          185 non-null object\n",
      "Blood Sugar at the time of admission ( mg/dl)    185 non-null int64\n",
      "CODING ANT. POST. COMBINATION                    185 non-null int64\n",
      "LARGE Vs SMALL ARTERY                            99 non-null float64\n",
      "HAGE                                             185 non-null int64\n",
      " Dose of Actilyse/ Weight(mg)                    185 non-null int64\n",
      "NIHSS on admission.1                             185 non-null int64\n",
      "NIHSS after 1 hr                                 178 non-null float64\n",
      "  NIHSS after 6 hrs                              180 non-null float64\n",
      "coding of Complications                          185 non-null int64\n",
      "Outcome                                          162 non-null object\n",
      "CODE SMOKER 1 yes - 2 NO                         185 non-null int64\n",
      "History of Stroke-1 yes - 2 No                   185 non-null int64\n",
      "Systolic BP                                      185 non-null int64\n",
      "Diastolic BP                                     185 non-null int64\n",
      "dtypes: float64(3), int64(19), object(2)\n",
      "memory usage: 34.8+ KB\n"
     ]
    }
   ],
   "source": [
    "s_data.info()"
   ]
  },
  {
   "cell_type": "markdown",
   "metadata": {},
   "source": [
    "#### Removing the column Blood Pressure at the time of admission"
   ]
  },
  {
   "cell_type": "code",
   "execution_count": 76,
   "metadata": {},
   "outputs": [
    {
     "name": "stderr",
     "output_type": "stream",
     "text": [
      "C:\\Users\\Varun Chandra\\.conda\\envs\\tf_gpu36\\lib\\site-packages\\pandas\\core\\frame.py:4117: SettingWithCopyWarning: \n",
      "A value is trying to be set on a copy of a slice from a DataFrame\n",
      "\n",
      "See the caveats in the documentation: http://pandas.pydata.org/pandas-docs/stable/user_guide/indexing.html#returning-a-view-versus-a-copy\n",
      "  errors=errors,\n"
     ]
    }
   ],
   "source": [
    "s_data.drop([\"Blood Pressure at the time of admission\"], axis = 1, inplace = True)"
   ]
  },
  {
   "cell_type": "markdown",
   "metadata": {},
   "source": [
    "## Cleaned data"
   ]
  },
  {
   "cell_type": "code",
   "execution_count": 77,
   "metadata": {},
   "outputs": [
    {
     "name": "stdout",
     "output_type": "stream",
     "text": [
      "<class 'pandas.core.frame.DataFrame'>\n",
      "RangeIndex: 185 entries, 0 to 184\n",
      "Data columns (total 23 columns):\n",
      "Age                                              185 non-null int64\n",
      "Gender                                           185 non-null int64\n",
      "Door to needle time (min )                       185 non-null int64\n",
      "Door-door time                                   185 non-null int64\n",
      "CODE of Neurological Deficit                     185 non-null int64\n",
      "CODING WINDOW                                    185 non-null int64\n",
      "MRS                                              185 non-null int64\n",
      "Hyper tension 1-yes              2- No           185 non-null int64\n",
      "DM                                               185 non-null int64\n",
      "Blood Sugar at the time of admission ( mg/dl)    185 non-null int64\n",
      "CODING ANT. POST. COMBINATION                    185 non-null int64\n",
      "LARGE Vs SMALL ARTERY                            99 non-null float64\n",
      "HAGE                                             185 non-null int64\n",
      " Dose of Actilyse/ Weight(mg)                    185 non-null int64\n",
      "NIHSS on admission.1                             185 non-null int64\n",
      "NIHSS after 1 hr                                 178 non-null float64\n",
      "  NIHSS after 6 hrs                              180 non-null float64\n",
      "coding of Complications                          185 non-null int64\n",
      "Outcome                                          162 non-null object\n",
      "CODE SMOKER 1 yes - 2 NO                         185 non-null int64\n",
      "History of Stroke-1 yes - 2 No                   185 non-null int64\n",
      "Systolic BP                                      185 non-null int64\n",
      "Diastolic BP                                     185 non-null int64\n",
      "dtypes: float64(3), int64(19), object(1)\n",
      "memory usage: 33.4+ KB\n"
     ]
    }
   ],
   "source": [
    "s_data.info()"
   ]
  },
  {
   "cell_type": "markdown",
   "metadata": {},
   "source": [
    "#### Changing the order of columns"
   ]
  },
  {
   "cell_type": "code",
   "execution_count": 79,
   "metadata": {},
   "outputs": [
    {
     "data": {
      "text/plain": [
       "['Age',\n",
       " 'Gender',\n",
       " 'Door to needle time (min )',\n",
       " 'Door-door time',\n",
       " 'CODE of Neurological Deficit ',\n",
       " 'CODING WINDOW ',\n",
       " 'MRS',\n",
       " 'Hyper tension 1-yes              2- No',\n",
       " 'DM',\n",
       " 'Blood Sugar at the time of admission ( mg/dl)',\n",
       " 'CODING ANT. POST. COMBINATION',\n",
       " 'LARGE Vs SMALL ARTERY',\n",
       " 'HAGE',\n",
       " ' Dose of Actilyse/ Weight(mg)',\n",
       " 'NIHSS on admission.1',\n",
       " 'NIHSS after 1 hr',\n",
       " '  NIHSS after 6 hrs',\n",
       " 'coding of Complications',\n",
       " 'Outcome',\n",
       " 'CODE SMOKER 1 yes - 2 NO',\n",
       " 'History of Stroke-1 yes - 2 No',\n",
       " 'Systolic BP',\n",
       " 'Diastolic BP']"
      ]
     },
     "execution_count": 79,
     "metadata": {},
     "output_type": "execute_result"
    }
   ],
   "source": [
    "s_data.columns.tolist()"
   ]
  },
  {
   "cell_type": "code",
   "execution_count": 80,
   "metadata": {},
   "outputs": [],
   "source": [
    "l = ['Age',\n",
    " 'Gender',\n",
    " 'Door to needle time (min )',\n",
    " 'Door-door time',\n",
    " 'CODE of Neurological Deficit ',\n",
    " 'CODING WINDOW ',\n",
    " 'MRS',\n",
    " 'Hyper tension 1-yes              2- No',\n",
    " 'DM',\n",
    " 'Blood Sugar at the time of admission ( mg/dl)',\n",
    " 'Systolic BP',\n",
    " 'Diastolic BP',\n",
    " 'CODE SMOKER 1 yes - 2 NO',\n",
    " 'History of Stroke-1 yes - 2 No',\n",
    " 'CODING ANT. POST. COMBINATION',\n",
    " 'LARGE Vs SMALL ARTERY',\n",
    " ' Dose of Actilyse/ Weight(mg)',\n",
    " 'HAGE',\n",
    " 'NIHSS on admission.1',\n",
    " 'NIHSS after 1 hr',\n",
    " '  NIHSS after 6 hrs',\n",
    " 'coding of Complications',\n",
    " 'Outcome']"
   ]
  },
  {
   "cell_type": "code",
   "execution_count": 81,
   "metadata": {},
   "outputs": [],
   "source": [
    "s_data = s_data[l]"
   ]
  },
  {
   "cell_type": "code",
   "execution_count": 82,
   "metadata": {},
   "outputs": [
    {
     "name": "stdout",
     "output_type": "stream",
     "text": [
      "<class 'pandas.core.frame.DataFrame'>\n",
      "RangeIndex: 185 entries, 0 to 184\n",
      "Data columns (total 23 columns):\n",
      "Age                                              185 non-null int64\n",
      "Gender                                           185 non-null int64\n",
      "Door to needle time (min )                       185 non-null int64\n",
      "Door-door time                                   185 non-null int64\n",
      "CODE of Neurological Deficit                     185 non-null int64\n",
      "CODING WINDOW                                    185 non-null int64\n",
      "MRS                                              185 non-null int64\n",
      "Hyper tension 1-yes              2- No           185 non-null int64\n",
      "DM                                               185 non-null int64\n",
      "Blood Sugar at the time of admission ( mg/dl)    185 non-null int64\n",
      "Systolic BP                                      185 non-null int64\n",
      "Diastolic BP                                     185 non-null int64\n",
      "CODE SMOKER 1 yes - 2 NO                         185 non-null int64\n",
      "History of Stroke-1 yes - 2 No                   185 non-null int64\n",
      "CODING ANT. POST. COMBINATION                    185 non-null int64\n",
      "LARGE Vs SMALL ARTERY                            99 non-null float64\n",
      " Dose of Actilyse/ Weight(mg)                    185 non-null int64\n",
      "HAGE                                             185 non-null int64\n",
      "NIHSS on admission.1                             185 non-null int64\n",
      "NIHSS after 1 hr                                 178 non-null float64\n",
      "  NIHSS after 6 hrs                              180 non-null float64\n",
      "coding of Complications                          185 non-null int64\n",
      "Outcome                                          162 non-null object\n",
      "dtypes: float64(3), int64(19), object(1)\n",
      "memory usage: 33.4+ KB\n"
     ]
    }
   ],
   "source": [
    "s_data.info()"
   ]
  },
  {
   "cell_type": "markdown",
   "metadata": {},
   "source": [
    "#### Storing the cleaned data"
   ]
  },
  {
   "cell_type": "code",
   "execution_count": 83,
   "metadata": {},
   "outputs": [],
   "source": [
    "import pickle\n",
    "\n",
    "cleaned_data_pickle = open(\"cleanData.pickle\", \"wb\")\n",
    "\n",
    "pickle.dump(s_data, cleaned_data_pickle)\n",
    "\n",
    "cleaned_data_pickle.close()"
   ]
  },
  {
   "cell_type": "code",
   "execution_count": 85,
   "metadata": {},
   "outputs": [],
   "source": [
    "s_data.to_excel(\"cleanData.xlsx\")"
   ]
  },
  {
   "cell_type": "code",
   "execution_count": null,
   "metadata": {},
   "outputs": [],
   "source": []
  }
 ],
 "metadata": {
  "kernelspec": {
   "display_name": "Python 3",
   "language": "python",
   "name": "python3"
  },
  "language_info": {
   "codemirror_mode": {
    "name": "ipython",
    "version": 3
   },
   "file_extension": ".py",
   "mimetype": "text/x-python",
   "name": "python",
   "nbconvert_exporter": "python",
   "pygments_lexer": "ipython3",
   "version": "3.6.9"
  }
 },
 "nbformat": 4,
 "nbformat_minor": 2
}
